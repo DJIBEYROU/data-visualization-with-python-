{
 "cells": [
  {
   "cell_type": "code",
   "execution_count": 1,
   "id": "5624eac6-114b-4bef-b195-1ec37b8673de",
   "metadata": {},
   "outputs": [],
   "source": [
    "import pandas as pd\n",
    "import matplotlib.pyplot as plt\n"
   ]
  },
  {
   "cell_type": "markdown",
   "id": "d1109139-03ae-45a8-88dc-4a8ed8b7ae24",
   "metadata": {},
   "source": [
    "##Temperature dataset Link: \n",
    "https://www.data.jma.go.jp/obd/stats/etrn/view/monthly_s3_en.php?block_no=47401&v\n",
    "##Solar and demand dataset: \n",
    "https://www.renewable-ei.org/en/statistics/electricity/#demand"
   ]
  },
  {
   "cell_type": "code",
   "execution_count": 38,
   "id": "945d7be4-7930-4f95-b5af-d08b7b077644",
   "metadata": {},
   "outputs": [],
   "source": [
    "data = pd.ExcelFile('C:/Users/REI-K0103/Desktop/JupyterFile/temperature_dataa.xlsx')\n",
    "df = pd.read_excel(data, 'Sheet2')\n",
    "df2 = pd.read_excel(data, \"Sheet3\")"
   ]
  },
  {
   "cell_type": "code",
   "execution_count": 39,
   "id": "95bd17fa-76e6-410c-8da4-24b1f5790690",
   "metadata": {},
   "outputs": [
    {
     "data": {
      "text/html": [
       "<div>\n",
       "<style scoped>\n",
       "    .dataframe tbody tr th:only-of-type {\n",
       "        vertical-align: middle;\n",
       "    }\n",
       "\n",
       "    .dataframe tbody tr th {\n",
       "        vertical-align: top;\n",
       "    }\n",
       "\n",
       "    .dataframe thead th {\n",
       "        text-align: right;\n",
       "    }\n",
       "</style>\n",
       "<table border=\"1\" class=\"dataframe\">\n",
       "  <thead>\n",
       "    <tr style=\"text-align: right;\">\n",
       "      <th></th>\n",
       "      <th>Year</th>\n",
       "      <th>Jan</th>\n",
       "      <th>Feb</th>\n",
       "      <th>Mar</th>\n",
       "      <th>Apr</th>\n",
       "      <th>May</th>\n",
       "      <th>Aug</th>\n",
       "      <th>Sep</th>\n",
       "      <th>Oct</th>\n",
       "      <th>Nov</th>\n",
       "      <th>Annual</th>\n",
       "    </tr>\n",
       "  </thead>\n",
       "  <tbody>\n",
       "    <tr>\n",
       "      <th>count</th>\n",
       "      <td>87.000000</td>\n",
       "      <td>87.000000</td>\n",
       "      <td>87.000000</td>\n",
       "      <td>87.000000</td>\n",
       "      <td>87.000000</td>\n",
       "      <td>87.000000</td>\n",
       "      <td>87.00000</td>\n",
       "      <td>87.000000</td>\n",
       "      <td>87.000000</td>\n",
       "      <td>87.000000</td>\n",
       "      <td>87.000000</td>\n",
       "    </tr>\n",
       "    <tr>\n",
       "      <th>mean</th>\n",
       "      <td>1981.000000</td>\n",
       "      <td>-3.167816</td>\n",
       "      <td>-2.793103</td>\n",
       "      <td>1.271264</td>\n",
       "      <td>7.308046</td>\n",
       "      <td>12.154023</td>\n",
       "      <td>22.42069</td>\n",
       "      <td>19.880460</td>\n",
       "      <td>13.842529</td>\n",
       "      <td>6.027586</td>\n",
       "      <td>9.400460</td>\n",
       "    </tr>\n",
       "    <tr>\n",
       "      <th>std</th>\n",
       "      <td>25.258662</td>\n",
       "      <td>1.522811</td>\n",
       "      <td>1.505555</td>\n",
       "      <td>1.380336</td>\n",
       "      <td>1.327545</td>\n",
       "      <td>1.472761</td>\n",
       "      <td>1.78085</td>\n",
       "      <td>1.096701</td>\n",
       "      <td>1.028391</td>\n",
       "      <td>1.470460</td>\n",
       "      <td>0.701639</td>\n",
       "    </tr>\n",
       "    <tr>\n",
       "      <th>min</th>\n",
       "      <td>1938.000000</td>\n",
       "      <td>-6.800000</td>\n",
       "      <td>-6.600000</td>\n",
       "      <td>-1.500000</td>\n",
       "      <td>4.300000</td>\n",
       "      <td>7.900000</td>\n",
       "      <td>18.60000</td>\n",
       "      <td>17.400000</td>\n",
       "      <td>11.300000</td>\n",
       "      <td>1.500000</td>\n",
       "      <td>7.800000</td>\n",
       "    </tr>\n",
       "    <tr>\n",
       "      <th>25%</th>\n",
       "      <td>1959.500000</td>\n",
       "      <td>-4.250000</td>\n",
       "      <td>-3.750000</td>\n",
       "      <td>0.300000</td>\n",
       "      <td>6.600000</td>\n",
       "      <td>11.200000</td>\n",
       "      <td>21.00000</td>\n",
       "      <td>19.000000</td>\n",
       "      <td>13.050000</td>\n",
       "      <td>5.100000</td>\n",
       "      <td>8.850000</td>\n",
       "    </tr>\n",
       "    <tr>\n",
       "      <th>50%</th>\n",
       "      <td>1981.000000</td>\n",
       "      <td>-2.900000</td>\n",
       "      <td>-2.800000</td>\n",
       "      <td>1.300000</td>\n",
       "      <td>7.200000</td>\n",
       "      <td>12.100000</td>\n",
       "      <td>22.60000</td>\n",
       "      <td>19.900000</td>\n",
       "      <td>14.000000</td>\n",
       "      <td>6.100000</td>\n",
       "      <td>9.500000</td>\n",
       "    </tr>\n",
       "    <tr>\n",
       "      <th>75%</th>\n",
       "      <td>2002.500000</td>\n",
       "      <td>-2.100000</td>\n",
       "      <td>-1.900000</td>\n",
       "      <td>2.000000</td>\n",
       "      <td>8.200000</td>\n",
       "      <td>13.050000</td>\n",
       "      <td>23.90000</td>\n",
       "      <td>20.600000</td>\n",
       "      <td>14.550000</td>\n",
       "      <td>7.000000</td>\n",
       "      <td>9.800000</td>\n",
       "    </tr>\n",
       "    <tr>\n",
       "      <th>max</th>\n",
       "      <td>2024.000000</td>\n",
       "      <td>0.000000</td>\n",
       "      <td>1.000000</td>\n",
       "      <td>6.000000</td>\n",
       "      <td>10.800000</td>\n",
       "      <td>16.700000</td>\n",
       "      <td>26.20000</td>\n",
       "      <td>22.900000</td>\n",
       "      <td>16.100000</td>\n",
       "      <td>9.000000</td>\n",
       "      <td>11.200000</td>\n",
       "    </tr>\n",
       "  </tbody>\n",
       "</table>\n",
       "</div>"
      ],
      "text/plain": [
       "              Year        Jan        Feb        Mar        Apr        May  \\\n",
       "count    87.000000  87.000000  87.000000  87.000000  87.000000  87.000000   \n",
       "mean   1981.000000  -3.167816  -2.793103   1.271264   7.308046  12.154023   \n",
       "std      25.258662   1.522811   1.505555   1.380336   1.327545   1.472761   \n",
       "min    1938.000000  -6.800000  -6.600000  -1.500000   4.300000   7.900000   \n",
       "25%    1959.500000  -4.250000  -3.750000   0.300000   6.600000  11.200000   \n",
       "50%    1981.000000  -2.900000  -2.800000   1.300000   7.200000  12.100000   \n",
       "75%    2002.500000  -2.100000  -1.900000   2.000000   8.200000  13.050000   \n",
       "max    2024.000000   0.000000   1.000000   6.000000  10.800000  16.700000   \n",
       "\n",
       "            Aug        Sep        Oct        Nov     Annual  \n",
       "count  87.00000  87.000000  87.000000  87.000000  87.000000  \n",
       "mean   22.42069  19.880460  13.842529   6.027586   9.400460  \n",
       "std     1.78085   1.096701   1.028391   1.470460   0.701639  \n",
       "min    18.60000  17.400000  11.300000   1.500000   7.800000  \n",
       "25%    21.00000  19.000000  13.050000   5.100000   8.850000  \n",
       "50%    22.60000  19.900000  14.000000   6.100000   9.500000  \n",
       "75%    23.90000  20.600000  14.550000   7.000000   9.800000  \n",
       "max    26.20000  22.900000  16.100000   9.000000  11.200000  "
      ]
     },
     "execution_count": 39,
     "metadata": {},
     "output_type": "execute_result"
    }
   ],
   "source": [
    "df.describe()"
   ]
  },
  {
   "cell_type": "code",
   "execution_count": 40,
   "id": "5a5ac37c-04ba-4f89-93cb-90de794ca0e8",
   "metadata": {},
   "outputs": [
    {
     "data": {
      "image/png": "[encoded data removed]",
      "text/plain": [
       "<Figure size 640x480 with 1 Axes>"
      ]
     },
     "metadata": {},
     "output_type": "display_data"
    }
   ],
   "source": [
    "import matplotlib.pyplot as plt\n",
    "df['Jun'] = pd.to_numeric(df['Jun'], errors='coerce')\n",
    "\n",
    "df['Jun'].hist(bins=5)\n",
    "plt.xlabel(r'Maximum monthly temperature, $^\\circ\\mathrm{C}$')\n",
    "plt.ylabel('Number of  years')\n",
    "plt.title('Maximum June Temperatures, 1938 – 2024')\n",
    "plt.show()"
   ]
  },
  {
   "cell_type": "code",
   "execution_count": 41,
   "id": "cca36574-122f-4ebb-9084-4af0ff6029ec",
   "metadata": {},
   "outputs": [
    {
     "data": {
      "image/png": "[encoded data removed]",
      "text/plain": [
       "<Figure size 800x600 with 1 Axes>"
      ]
     },
     "metadata": {},
     "output_type": "display_data"
    }
   ],
   "source": [
    "import numpy as np\n",
    "import pandas as pd\n",
    "import matplotlib.pyplot as plt\n",
    "from matplotlib.colors import Normalize\n",
    "from scipy.stats import gaussian_kde\n",
    "\n",
    "DPI = 100\n",
    "\n",
    "def plot_monthly_temperatures(filename, ax, title):\n",
    "    \"\"\"Make a ridgeline plot from the temperatures on Axes ax.\"\"\"\n",
    "\n",
    "    # Read the data into a pandas DataFrame.\n",
    "    df = pd.read_csv(filename, sep='\\s+', skiprows=5, header=0,\n",
    "                     index_col=0).dropna()\n",
    "    # The months are identified as the first 12 column names.\n",
    "    months = df.columns[:12]\n",
    "    # Get the mean temperatures across all years for each month.\n",
    "    meanT = df[months].mean()\n",
    "    # For a single plot, we might just take the min and max for that region.\n",
    "    #minT, maxT = np.min(meanT), np.max(meanT)\n",
    "    # But to properly compare across regions, set these to their values across\n",
    "    # both regions.\n",
    "    minT, maxT = 2.31, 16.19\n",
    "    norm = Normalize(vmin=minT, vmax=maxT)\n",
    "\n",
    "    # The temperature grid to plot the distributions on.\n",
    "    T = np.arange(-5, 25, 0.1)\n",
    "\n",
    "    # A colormap: blue (cold) to red (warm).\n",
    "    cmap = plt.get_cmap('coolwarm')\n",
    "\n",
    "    # Offset each plot vertically by this amount. It looks nice if they overlap.\n",
    "    offset = 0.25\n",
    "    # The y-axis ticks are the month names.\n",
    "    ax.yaxis.set_tick_params(length=0, width=0)\n",
    "    ax.set_ylim(-0.01, 12*offset)\n",
    "    ax.set_yticks(np.arange(0, 12*offset, offset))\n",
    "    ax.set_yticklabels(months[::-1].str.title())\n",
    "    yticklabels = ax.yaxis.get_ticklabels()\n",
    "\n",
    "    for i, month in enumerate(months[::-1]):\n",
    "        c = cmap(norm(meanT[month]))\n",
    "        dist = gaussian_kde(df[month])\n",
    "        # Plot the distribution in white, which acts as an outline to the\n",
    "        # filled region (in an appropriate colour) under each line.\n",
    "        ax.plot(T, dist(T) + i * offset, c='w', zorder=15-i)\n",
    "        ax.fill_between(T, dist(T) + i * offset, i * offset, fc=c, zorder=15-i) \n",
    "        # Complete with a base line across the width of the plot.\n",
    "        ax.axhline(i * offset, c=c, zorder=15-i)\n",
    "        # Also set the month name to the same colour as the plot.\n",
    "        yticklabels[i].set_color(c)\n",
    "\n",
    "    ax.set_xlabel(r'Maximum monthly temperature, $^\\circ\\mathrm{C}$')\n",
    "    ax.spines['top'].set_visible(False)\n",
    "    ax.spines['right'].set_visible(False)\n",
    "    ax.spines['bottom'].set_visible(False)\n",
    "    ax.spines['left'].set_visible(False)\n",
    "\n",
    "    ax.set_title(title)\n",
    "\n",
    "# Create a single plot.\n",
    "fig, ax = plt.subplots(nrows=1, ncols=1, figsize=(800/DPI, 600/DPI), dpi=DPI)\n",
    "filename = 'dataa.txt'\n",
    "plot_monthly_temperatures(filename, ax, 'Japan, Tokyo')\n",
    "plt.subplots_adjust(top=0.95, bottom=0.05)\n",
    "#plt.savefig('temps-kde.png', dpi=DPI)\n",
    "plt.show()"
   ]
  },
  {
   "cell_type": "code",
   "execution_count": 42,
   "id": "a39f44e2-a190-4a97-99be-0e6a0490985b",
   "metadata": {},
   "outputs": [
    {
     "data": {
      "text/html": [
       "<div>\n",
       "<style scoped>\n",
       "    .dataframe tbody tr th:only-of-type {\n",
       "        vertical-align: middle;\n",
       "    }\n",
       "\n",
       "    .dataframe tbody tr th {\n",
       "        vertical-align: top;\n",
       "    }\n",
       "\n",
       "    .dataframe thead th {\n",
       "        text-align: right;\n",
       "    }\n",
       "</style>\n",
       "<table border=\"1\" class=\"dataframe\">\n",
       "  <thead>\n",
       "    <tr style=\"text-align: right;\">\n",
       "      <th></th>\n",
       "      <th>date</th>\n",
       "      <th>solar</th>\n",
       "      <th>demand</th>\n",
       "      <th>price</th>\n",
       "    </tr>\n",
       "  </thead>\n",
       "  <tbody>\n",
       "    <tr>\n",
       "      <th>count</th>\n",
       "      <td>720</td>\n",
       "      <td>720.000000</td>\n",
       "      <td>720.000000</td>\n",
       "      <td>720.000000</td>\n",
       "    </tr>\n",
       "    <tr>\n",
       "      <th>mean</th>\n",
       "      <td>2023-06-15 12:00:00</td>\n",
       "      <td>2840.972222</td>\n",
       "      <td>29500.333333</td>\n",
       "      <td>10.825819</td>\n",
       "    </tr>\n",
       "    <tr>\n",
       "      <th>min</th>\n",
       "      <td>2023-06-01 00:00:00</td>\n",
       "      <td>0.000000</td>\n",
       "      <td>20000.000000</td>\n",
       "      <td>0.010000</td>\n",
       "    </tr>\n",
       "    <tr>\n",
       "      <th>25%</th>\n",
       "      <td>2023-06-08 00:00:00</td>\n",
       "      <td>0.000000</td>\n",
       "      <td>24355.000000</td>\n",
       "      <td>9.160000</td>\n",
       "    </tr>\n",
       "    <tr>\n",
       "      <th>50%</th>\n",
       "      <td>2023-06-15 12:00:00</td>\n",
       "      <td>525.000000</td>\n",
       "      <td>29145.000000</td>\n",
       "      <td>10.625000</td>\n",
       "    </tr>\n",
       "    <tr>\n",
       "      <th>75%</th>\n",
       "      <td>2023-06-23 00:00:00</td>\n",
       "      <td>4612.500000</td>\n",
       "      <td>33405.000000</td>\n",
       "      <td>12.295000</td>\n",
       "    </tr>\n",
       "    <tr>\n",
       "      <th>max</th>\n",
       "      <td>2023-06-30 00:00:00</td>\n",
       "      <td>15060.000000</td>\n",
       "      <td>46580.000000</td>\n",
       "      <td>17.980000</td>\n",
       "    </tr>\n",
       "    <tr>\n",
       "      <th>std</th>\n",
       "      <td>NaN</td>\n",
       "      <td>4021.335782</td>\n",
       "      <td>5688.769030</td>\n",
       "      <td>2.746536</td>\n",
       "    </tr>\n",
       "  </tbody>\n",
       "</table>\n",
       "</div>"
      ],
      "text/plain": [
       "                      date         solar        demand       price\n",
       "count                  720    720.000000    720.000000  720.000000\n",
       "mean   2023-06-15 12:00:00   2840.972222  29500.333333   10.825819\n",
       "min    2023-06-01 00:00:00      0.000000  20000.000000    0.010000\n",
       "25%    2023-06-08 00:00:00      0.000000  24355.000000    9.160000\n",
       "50%    2023-06-15 12:00:00    525.000000  29145.000000   10.625000\n",
       "75%    2023-06-23 00:00:00   4612.500000  33405.000000   12.295000\n",
       "max    2023-06-30 00:00:00  15060.000000  46580.000000   17.980000\n",
       "std                    NaN   4021.335782   5688.769030    2.746536"
      ]
     },
     "execution_count": 42,
     "metadata": {},
     "output_type": "execute_result"
    }
   ],
   "source": [
    "df2.describe()\n"
   ]
  },
  {
   "cell_type": "code",
   "execution_count": 43,
   "id": "42009775-c375-4261-b34f-944d1c3797c0",
   "metadata": {},
   "outputs": [],
   "source": [
    "import plotly.express as px"
   ]
  },
  {
   "cell_type": "code",
   "execution_count": 44,
   "id": "b9ea082d-cc47-4c58-901d-94342e2251c8",
   "metadata": {},
   "outputs": [
    {
     "data": {
      "application/vnd.plotly.v1+json": {
       "config": {
        "plotlyServerURL": "https://plot.ly"
       },
       "data": [
        {
         "hovertemplate": "<b>%{hovertext}</b><br><br>date=2023-06-01 00:00:00<br>Electricity demand=%{x}<br>Solar output=%{marker.size}<br>price=%{marker.color}<extra></extra>",
         "hovertext": [
          9.16,
          8.97,
          8.96,
          9.18,
          10,
          9.26,
          8.8,
          8.42,
          9.42,
          10.05,
          9.51,
          10.1,
          10,
          10.05,
          11.6,
          9.36,
          10.11,
          10.56,
          11.64,
          11.58,
          10.14,
          10.11,
          10.6,
          10.55
         ],
         "legendgroup": "",
         "marker": {
          "color": [
           9.16,
           8.97,
           8.96,
           9.18,
           10,
           9.26,
           8.8,
           8.42,
           9.42,
           10.05,
           9.51,
           10.1,
           10,
           10.05,
           11.6,
           9.36,
           10.11,
           10.56,
           11.64,
           11.58,
           10.14,
           10.11,
           10.6,
           10.55
          ],
          "coloraxis": "coloraxis",
          "size": [
           0,
           0,
           0,
           0,
           10,
           940,
           3510,
           6750,
           9920,
           12250,
           12230,
           11030,
           9590,
           8760,
           7480,
           6040,
           3800,
           1360,
           150,
           0,
           0,
           0,
           0,
           0
          ],
          "sizemode": "area",
          "sizeref": 1.506,
          "symbol": "circle"
         },
         "mode": "markers",
         "name": "",
         "orientation": "v",
         "showlegend": false,
         "type": "scatter",
         "x": [
          22750,
          21620,
          21520,
          21920,
          22130,
          22130,
          23150,
          25380,
          28760,
          32270,
          33270,
          33400,
          31790,
          32780,
          32600,
          32310,
          32640,
          31400,
          31370,
          31030,
          29680,
          28080,
          26870,
          25600
         ],
         "xaxis": "x",
         "y": [
          0,
          0,
          0,
          0,
          10,
          940,
          3510,
          6750,
          9920,
          12250,
          12230,
          11030,
          9590,
          8760,
          7480,
          6040,
          3800,
          1360,
          150,
          0,
          0,
          0,
          0,
          0
         ],
         "yaxis": "y"
        }
       ],
       "frames": [
        {
         "data": [
          {
           "hovertemplate": "<b>%{hovertext}</b><br><br>date=2023-06-01 00:00:00<br>Electricity demand=%{x}<br>Solar output=%{marker.size}<br>price=%{marker.color}<extra></extra>",
           "hovertext": [
            9.16,
            8.97,
            8.96,
            9.18,
            10,
            9.26,
            8.8,
            8.42,
            9.42,
            10.05,
            9.51,
            10.1,
            10,
            10.05,
            11.6,
            9.36,
            10.11,
            10.56,
            11.64,
            11.58,
            10.14,
            10.11,
            10.6,
            10.55
           ],
           "legendgroup": "",
           "marker": {
            "color": [
             9.16,
             8.97,
             8.96,
             9.18,
             10,
             9.26,
             8.8,
             8.42,
             9.42,
             10.05,
             9.51,
             10.1,
             10,
             10.05,
             11.6,
             9.36,
             10.11,
             10.56,
             11.64,
             11.58,
             10.14,
             10.11,
             10.6,
             10.55
            ],
            "coloraxis": "coloraxis",
            "size": [
             0,
             0,
             0,
             0,
             10,
             940,
             3510,
             6750,
             9920,
             12250,
             12230,
             11030,
             9590,
             8760,
             7480,
             6040,
             3800,
             1360,
             150,
             0,
             0,
             0,
             0,
             0
            ],
            "sizemode": "area",
            "sizeref": 1.506,
            "symbol": "circle"
           },
           "mode": "markers",
           "name": "",
           "orientation": "v",
           "showlegend": false,
           "type": "scatter",
           "x": [
            22750,
            21620,
            21520,
            21920,
            22130,
            22130,
            23150,
            25380,
            28760,
            32270,
            33270,
            33400,
            31790,
            32780,
            32600,
            32310,
            32640,
            31400,
            31370,
            31030,
            29680,
            28080,
            26870,
            25600
           ],
           "xaxis": "x",
           "y": [
            0,
            0,
            0,
            0,
            10,
            940,
            3510,
            6750,
            9920,
            12250,
            12230,
            11030,
            9590,
            8760,
            7480,
            6040,
            3800,
            1360,
            150,
            0,
            0,
            0,
            0,
            0
           ],
           "yaxis": "y"
          }
         ],
         "name": "2023-06-01 00:00:00"
        },
        {
         "data": [
          {
           "hovertemplate": "<b>%{hovertext}</b><br><br>date=2023-06-02 00:00:00<br>Electricity demand=%{x}<br>Solar output=%{marker.size}<br>price=%{marker.color}<extra></extra>",
           "hovertext": [
            10.13,
            9.31,
            10.09,
            10.1,
            10.1,
            10.05,
            10.1,
            11.11,
            12.05,
            13.81,
            13.81,
            13.81,
            12.19,
            13.81,
            13.1,
            13.77,
            13.25,
            12.17,
            12.16,
            12.03,
            10.55,
            10.09,
            10.25,
            10.37
           ],
           "legendgroup": "",
           "marker": {
            "color": [
             10.13,
             9.31,
             10.09,
             10.1,
             10.1,
             10.05,
             10.1,
             11.11,
             12.05,
             13.81,
             13.81,
             13.81,
             12.19,
             13.81,
             13.1,
             13.77,
             13.25,
             12.17,
             12.16,
             12.03,
             10.55,
             10.09,
             10.25,
             10.37
            ],
            "coloraxis": "coloraxis",
            "size": [
             0,
             0,
             0,
             0,
             10,
             100,
             260,
             430,
             600,
             830,
             1020,
             1220,
             1100,
             880,
             900,
             670,
             370,
             150,
             20,
             0,
             0,
             0,
             0,
             0
            ],
            "sizemode": "area",
            "sizeref": 1.506,
            "symbol": "circle"
           },
           "mode": "markers",
           "name": "",
           "orientation": "v",
           "showlegend": false,
           "type": "scatter",
           "x": [
            23720,
            22640,
            22470,
            22840,
            23120,
            23320,
            24560,
            27010,
            30550,
            33090,
            33660,
            33630,
            32870,
            34030,
            34240,
            34500,
            34500,
            33360,
            32680,
            31760,
            30370,
            28830,
            27690,
            26370
           ],
           "xaxis": "x",
           "y": [
            0,
            0,
            0,
            0,
            10,
            100,
            260,
            430,
            600,
            830,
            1020,
            1220,
            1100,
            880,
            900,
            670,
            370,
            150,
            20,
            0,
            0,
            0,
            0,
            0
           ],
           "yaxis": "y"
          }
         ],
         "name": "2023-06-02 00:00:00"
        },
        {
         "data": [
          {
           "hovertemplate": "<b>%{hovertext}</b><br><br>date=2023-06-03 00:00:00<br>Electricity demand=%{x}<br>Solar output=%{marker.size}<br>price=%{marker.color}<extra></extra>",
           "hovertext": [
            11.08,
            10.14,
            10.14,
            9.95,
            9.2,
            9.74,
            9.48,
            8.81,
            8.8,
            8.79,
            8.73,
            8.46,
            7.01,
            5.51,
            7.01,
            4.83,
            8.15,
            9.36,
            10.71,
            10.66,
            10.49,
            10.13,
            10.65,
            9.59
           ],
           "legendgroup": "",
           "marker": {
            "color": [
             11.08,
             10.14,
             10.14,
             9.95,
             9.2,
             9.74,
             9.48,
             8.81,
             8.8,
             8.79,
             8.73,
             8.46,
             7.01,
             5.51,
             7.01,
             4.83,
             8.15,
             9.36,
             10.71,
             10.66,
             10.49,
             10.13,
             10.65,
             9.59
            ],
            "coloraxis": "coloraxis",
            "size": [
             0,
             0,
             0,
             0,
             10,
             240,
             660,
             1080,
             1740,
             3150,
             5540,
             7620,
             8780,
             9530,
             10060,
             8230,
             4950,
             1800,
             220,
             0,
             0,
             0,
             0,
             0
            ],
            "sizemode": "area",
            "sizeref": 1.506,
            "symbol": "circle"
           },
           "mode": "markers",
           "name": "",
           "orientation": "v",
           "showlegend": false,
           "type": "scatter",
           "x": [
            24740,
            23560,
            23090,
            23230,
            23140,
            22880,
            22800,
            23850,
            25430,
            26550,
            26640,
            27290,
            27130,
            26910,
            27300,
            27410,
            27440,
            27520,
            27730,
            27990,
            26880,
            25440,
            24440,
            23380
           ],
           "xaxis": "x",
           "y": [
            0,
            0,
            0,
            0,
            10,
            240,
            660,
            1080,
            1740,
            3150,
            5540,
            7620,
            8780,
            9530,
            10060,
            8230,
            4950,
            1800,
            220,
            0,
            0,
            0,
            0,
            0
           ],
           "yaxis": "y"
          }
         ],
         "name": "2023-06-03 00:00:00"
        },
        {
         "data": [
          {
           "hovertemplate": "<b>%{hovertext}</b><br><br>date=2023-06-04 00:00:00<br>Electricity demand=%{x}<br>Solar output=%{marker.size}<br>price=%{marker.color}<extra></extra>",
           "hovertext": [
            8.33,
            7.82,
            7.93,
            8.02,
            8.22,
            3.5,
            0.01,
            0.01,
            0.01,
            0.01,
            0.01,
            0.01,
            0.01,
            0.01,
            0.06,
            7.87,
            6.68,
            9.41,
            11.79,
            12.24,
            11.32,
            10.35,
            9.36,
            8.56
           ],
           "legendgroup": "",
           "marker": {
            "color": [
             8.33,
             7.82,
             7.93,
             8.02,
             8.22,
             3.5,
             0.01,
             0.01,
             0.01,
             0.01,
             0.01,
             0.01,
             0.01,
             0.01,
             0.06,
             7.87,
             6.68,
             9.41,
             11.79,
             12.24,
             11.32,
             10.35,
             9.36,
             8.56
            ],
            "coloraxis": "coloraxis",
            "size": [
             0,
             0,
             0,
             0,
             10,
             850,
             3240,
             6790,
             10140,
             13010,
             14650,
             15060,
             14500,
             12610,
             8570,
             5300,
             2980,
             1190,
             150,
             0,
             0,
             0,
             0,
             0
            ],
            "sizemode": "area",
            "sizeref": 1.506,
            "symbol": "circle"
           },
           "mode": "markers",
           "name": "",
           "orientation": "v",
           "showlegend": false,
           "type": "scatter",
           "x": [
            21870,
            20840,
            20620,
            20930,
            20910,
            20390,
            20000,
            20980,
            22850,
            25130,
            26680,
            27510,
            27730,
            27980,
            27200,
            26190,
            26330,
            26800,
            27750,
            28140,
            27190,
            25740,
            24330,
            23260
           ],
           "xaxis": "x",
           "y": [
            0,
            0,
            0,
            0,
            10,
            850,
            3240,
            6790,
            10140,
            13010,
            14650,
            15060,
            14500,
            12610,
            8570,
            5300,
            2980,
            1190,
            150,
            0,
            0,
            0,
            0,
            0
           ],
           "yaxis": "y"
          }
         ],
         "name": "2023-06-04 00:00:00"
        },
        {
         "data": [
          {
           "hovertemplate": "<b>%{hovertext}</b><br><br>date=2023-06-05 00:00:00<br>Electricity demand=%{x}<br>Solar output=%{marker.size}<br>price=%{marker.color}<extra></extra>",
           "hovertext": [
            8.66,
            8.46,
            8.83,
            9.17,
            9.43,
            8.5,
            3,
            7.9,
            6.92,
            7.82,
            7.69,
            8.17,
            8.07,
            9.78,
            11.68,
            13.16,
            13.42,
            13.45,
            13.49,
            13.49,
            11.68,
            11.26,
            10.87,
            9.8
           ],
           "legendgroup": "",
           "marker": {
            "color": [
             8.66,
             8.46,
             8.83,
             9.17,
             9.43,
             8.5,
             3,
             7.9,
             6.92,
             7.82,
             7.69,
             8.17,
             8.07,
             9.78,
             11.68,
             13.16,
             13.42,
             13.45,
             13.49,
             13.49,
             11.68,
             11.26,
             10.87,
             9.8
            ],
            "coloraxis": "coloraxis",
            "size": [
             0,
             0,
             0,
             0,
             10,
             760,
             2820,
             5870,
             8380,
             10220,
             11840,
             12480,
             13040,
             12760,
             10210,
             6800,
             3350,
             1450,
             200,
             0,
             0,
             0,
             0,
             0
            ],
            "sizemode": "area",
            "sizeref": 1.506,
            "symbol": "circle"
           },
           "mode": "markers",
           "name": "",
           "orientation": "v",
           "showlegend": false,
           "type": "scatter",
           "x": [
            21670,
            20650,
            20500,
            20950,
            21200,
            21160,
            22200,
            24750,
            28780,
            31980,
            33330,
            34190,
            33560,
            35780,
            35920,
            35280,
            33620,
            32420,
            32040,
            31570,
            30060,
            28350,
            27040,
            25600
           ],
           "xaxis": "x",
           "y": [
            0,
            0,
            0,
            0,
            10,
            760,
            2820,
            5870,
            8380,
            10220,
            11840,
            12480,
            13040,
            12760,
            10210,
            6800,
            3350,
            1450,
            200,
            0,
            0,
            0,
            0,
            0
           ],
           "yaxis": "y"
          }
         ],
         "name": "2023-06-05 00:00:00"
        },
        {
         "data": [
          {
           "hovertemplate": "<b>%{hovertext}</b><br><br>date=2023-06-06 00:00:00<br>Electricity demand=%{x}<br>Solar output=%{marker.size}<br>price=%{marker.color}<extra></extra>",
           "hovertext": [
            9.4,
            8.38,
            8.72,
            9.07,
            9.1,
            8.52,
            8.11,
            5.02,
            8.51,
            8.8,
            8.63,
            9.16,
            9.15,
            10.61,
            12.75,
            12.5,
            12.78,
            12.61,
            13.16,
            13.13,
            11.45,
            11.16,
            10.87,
            9.45
           ],
           "legendgroup": "",
           "marker": {
            "color": [
             9.4,
             8.38,
             8.72,
             9.07,
             9.1,
             8.52,
             8.11,
             5.02,
             8.51,
             8.8,
             8.63,
             9.16,
             9.15,
             10.61,
             12.75,
             12.5,
             12.78,
             12.61,
             13.16,
             13.13,
             11.45,
             11.16,
             10.87,
             9.45
            ],
            "coloraxis": "coloraxis",
            "size": [
             0,
             0,
             0,
             0,
             10,
             790,
             2800,
             4980,
             5900,
             6270,
             6620,
             7250,
             8110,
             5940,
             3430,
             2210,
             1180,
             400,
             40,
             0,
             0,
             0,
             0,
             0
            ],
            "sizemode": "area",
            "sizeref": 1.506,
            "symbol": "circle"
           },
           "mode": "markers",
           "name": "",
           "orientation": "v",
           "showlegend": false,
           "type": "scatter",
           "x": [
            23660,
            22490,
            22200,
            22550,
            22610,
            22370,
            23250,
            25590,
            29180,
            31720,
            32130,
            32100,
            31640,
            33670,
            33170,
            32640,
            32810,
            32040,
            31940,
            31080,
            29650,
            27990,
            26840,
            25400
           ],
           "xaxis": "x",
           "y": [
            0,
            0,
            0,
            0,
            10,
            790,
            2800,
            4980,
            5900,
            6270,
            6620,
            7250,
            8110,
            5940,
            3430,
            2210,
            1180,
            400,
            40,
            0,
            0,
            0,
            0,
            0
           ],
           "yaxis": "y"
          }
         ],
         "name": "2023-06-06 00:00:00"
        },
        {
         "data": [
          {
           "hovertemplate": "<b>%{hovertext}</b><br><br>date=2023-06-07 00:00:00<br>Electricity demand=%{x}<br>Solar output=%{marker.size}<br>price=%{marker.color}<extra></extra>",
           "hovertext": [
            13.21,
            10.92,
            11.33,
            11.42,
            12.27,
            10.8,
            9.51,
            8.77,
            8.73,
            8.58,
            7.89,
            7.64,
            5,
            7.8,
            3.25,
            9.45,
            11.35,
            12.64,
            13.41,
            13.41,
            12.93,
            11.26,
            11.18,
            10.38
           ],
           "legendgroup": "",
           "marker": {
            "color": [
             13.21,
             10.92,
             11.33,
             11.42,
             12.27,
             10.8,
             9.51,
             8.77,
             8.73,
             8.58,
             7.89,
             7.64,
             5,
             7.8,
             3.25,
             9.45,
             11.35,
             12.64,
             13.41,
             13.41,
             12.93,
             11.26,
             11.18,
             10.38
            ],
            "coloraxis": "coloraxis",
            "size": [
             0,
             0,
             0,
             0,
             10,
             510,
             2140,
             5420,
             9540,
             12390,
             14270,
             14870,
             14370,
             12850,
             10810,
             7670,
             4160,
             1550,
             190,
             0,
             0,
             0,
             0,
             0
            ],
            "sizemode": "area",
            "sizeref": 1.506,
            "symbol": "circle"
           },
           "mode": "markers",
           "name": "",
           "orientation": "v",
           "showlegend": false,
           "type": "scatter",
           "x": [
            23450,
            22370,
            22150,
            22460,
            22680,
            22810,
            23500,
            25490,
            29580,
            32910,
            34550,
            35500,
            34740,
            35970,
            36140,
            36040,
            35380,
            33640,
            32940,
            32390,
            30780,
            28990,
            27570,
            26080
           ],
           "xaxis": "x",
           "y": [
            0,
            0,
            0,
            0,
            10,
            510,
            2140,
            5420,
            9540,
            12390,
            14270,
            14870,
            14370,
            12850,
            10810,
            7670,
            4160,
            1550,
            190,
            0,
            0,
            0,
            0,
            0
           ],
           "yaxis": "y"
          }
         ],
         "name": "2023-06-07 00:00:00"
        },
        {
         "data": [
          {
           "hovertemplate": "<b>%{hovertext}</b><br><br>date=2023-06-08 00:00:00<br>Electricity demand=%{x}<br>Solar output=%{marker.size}<br>price=%{marker.color}<extra></extra>",
           "hovertext": [
            11.17,
            9.68,
            9.12,
            10.03,
            10.34,
            9.63,
            8.76,
            8.65,
            8.59,
            8.52,
            8.45,
            8.55,
            8.54,
            10.21,
            11.74,
            12.64,
            13.13,
            13.13,
            13.13,
            13.13,
            11.64,
            10.63,
            10.7,
            11.12
           ],
           "legendgroup": "",
           "marker": {
            "color": [
             11.17,
             9.68,
             9.12,
             10.03,
             10.34,
             9.63,
             8.76,
             8.65,
             8.59,
             8.52,
             8.45,
             8.55,
             8.54,
             10.21,
             11.74,
             12.64,
             13.13,
             13.13,
             13.13,
             13.13,
             11.64,
             10.63,
             10.7,
             11.12
            ],
            "coloraxis": "coloraxis",
            "size": [
             0,
             0,
             0,
             0,
             10,
             760,
             2800,
             5250,
             8380,
             11080,
             12350,
             12380,
             9280,
             5700,
             3500,
             2200,
             1040,
             310,
             30,
             0,
             0,
             0,
             0,
             0
            ],
            "sizemode": "area",
            "sizeref": 1.506,
            "symbol": "circle"
           },
           "mode": "markers",
           "name": "",
           "orientation": "v",
           "showlegend": false,
           "type": "scatter",
           "x": [
            24110,
            22780,
            22460,
            22740,
            22900,
            22900,
            24130,
            26810,
            30740,
            34660,
            35890,
            37360,
            36180,
            36210,
            35600,
            34600,
            34560,
            33700,
            33400,
            32550,
            30980,
            29170,
            27760,
            26150
           ],
           "xaxis": "x",
           "y": [
            0,
            0,
            0,
            0,
            10,
            760,
            2800,
            5250,
            8380,
            11080,
            12350,
            12380,
            9280,
            5700,
            3500,
            2200,
            1040,
            310,
            30,
            0,
            0,
            0,
            0,
            0
           ],
           "yaxis": "y"
          }
         ],
         "name": "2023-06-08 00:00:00"
        },
        {
         "data": [
          {
           "hovertemplate": "<b>%{hovertext}</b><br><br>date=2023-06-09 00:00:00<br>Electricity demand=%{x}<br>Solar output=%{marker.size}<br>price=%{marker.color}<extra></extra>",
           "hovertext": [
            10.32,
            8.94,
            8.86,
            9.11,
            8.81,
            9.09,
            9.42,
            9.81,
            10.35,
            11.84,
            11.33,
            11.33,
            9.48,
            11.16,
            11.45,
            11.5,
            11.93,
            12.53,
            12.58,
            12.43,
            11.43,
            10.1,
            11.09,
            9.75
           ],
           "legendgroup": "",
           "marker": {
            "color": [
             10.32,
             8.94,
             8.86,
             9.11,
             8.81,
             9.09,
             9.42,
             9.81,
             10.35,
             11.84,
             11.33,
             11.33,
             9.48,
             11.16,
             11.45,
             11.5,
             11.93,
             12.53,
             12.58,
             12.43,
             11.43,
             10.1,
             11.09,
             9.75
            ],
            "coloraxis": "coloraxis",
            "size": [
             0,
             0,
             0,
             0,
             10,
             90,
             220,
             430,
             1120,
             2130,
             2350,
             2660,
             3250,
             3170,
             3580,
             3400,
             1770,
             490,
             60,
             0,
             0,
             0,
             0,
             0
            ],
            "sizemode": "area",
            "sizeref": 1.506,
            "symbol": "circle"
           },
           "mode": "markers",
           "name": "",
           "orientation": "v",
           "showlegend": false,
           "type": "scatter",
           "x": [
            24160,
            22860,
            22640,
            22980,
            23270,
            23730,
            25100,
            27480,
            30490,
            32930,
            33460,
            33440,
            32000,
            33190,
            32950,
            33350,
            33650,
            32570,
            32280,
            31620,
            30180,
            28570,
            27240,
            25840
           ],
           "xaxis": "x",
           "y": [
            0,
            0,
            0,
            0,
            10,
            90,
            220,
            430,
            1120,
            2130,
            2350,
            2660,
            3250,
            3170,
            3580,
            3400,
            1770,
            490,
            60,
            0,
            0,
            0,
            0,
            0
           ],
           "yaxis": "y"
          }
         ],
         "name": "2023-06-09 00:00:00"
        },
        {
         "data": [
          {
           "hovertemplate": "<b>%{hovertext}</b><br><br>date=2023-06-10 00:00:00<br>Electricity demand=%{x}<br>Solar output=%{marker.size}<br>price=%{marker.color}<extra></extra>",
           "hovertext": [
            9.59,
            8.8,
            9.26,
            9.57,
            9.16,
            8.88,
            8.36,
            8.11,
            9.31,
            10.19,
            10.01,
            10.29,
            10,
            10.58,
            10.73,
            10.66,
            10.72,
            10.87,
            11.1,
            11.15,
            10.92,
            10.67,
            10.52,
            9.38
           ],
           "legendgroup": "",
           "marker": {
            "color": [
             9.59,
             8.8,
             9.26,
             9.57,
             9.16,
             8.88,
             8.36,
             8.11,
             9.31,
             10.19,
             10.01,
             10.29,
             10,
             10.58,
             10.73,
             10.66,
             10.72,
             10.87,
             11.1,
             11.15,
             10.92,
             10.67,
             10.52,
             9.38
            ],
            "coloraxis": "coloraxis",
            "size": [
             0,
             0,
             0,
             0,
             10,
             420,
             1670,
             3670,
             5320,
             8290,
             9200,
             7730,
             5360,
             4540,
             4610,
             3520,
             2260,
             860,
             90,
             0,
             0,
             0,
             0,
             0
            ],
            "sizemode": "area",
            "sizeref": 1.506,
            "symbol": "circle"
           },
           "mode": "markers",
           "name": "",
           "orientation": "v",
           "showlegend": false,
           "type": "scatter",
           "x": [
            23960,
            22700,
            22370,
            22640,
            22620,
            22180,
            21960,
            23160,
            25350,
            27700,
            29290,
            29880,
            28910,
            27890,
            28250,
            28030,
            28420,
            28650,
            29240,
            29210,
            28100,
            26660,
            25560,
            24430
           ],
           "xaxis": "x",
           "y": [
            0,
            0,
            0,
            0,
            10,
            420,
            1670,
            3670,
            5320,
            8290,
            9200,
            7730,
            5360,
            4540,
            4610,
            3520,
            2260,
            860,
            90,
            0,
            0,
            0,
            0,
            0
           ],
           "yaxis": "y"
          }
         ],
         "name": "2023-06-10 00:00:00"
        },
        {
         "data": [
          {
           "hovertemplate": "<b>%{hovertext}</b><br><br>date=2023-06-11 00:00:00<br>Electricity demand=%{x}<br>Solar output=%{marker.size}<br>price=%{marker.color}<extra></extra>",
           "hovertext": [
            10.55,
            9.73,
            9.73,
            10.03,
            10.13,
            9.7,
            9.27,
            9.69,
            9.76,
            9.76,
            9.76,
            9.88,
            9.34,
            9.05,
            9.88,
            10.59,
            10.62,
            10.61,
            10.73,
            10.71,
            10.32,
            9.89,
            9.22,
            8.42
           ],
           "legendgroup": "",
           "marker": {
            "color": [
             10.55,
             9.73,
             9.73,
             10.03,
             10.13,
             9.7,
             9.27,
             9.69,
             9.76,
             9.76,
             9.76,
             9.88,
             9.34,
             9.05,
             9.88,
             10.59,
             10.62,
             10.61,
             10.73,
             10.71,
             10.32,
             9.89,
             9.22,
             8.42
            ],
            "coloraxis": "coloraxis",
            "size": [
             0,
             0,
             0,
             0,
             10,
             200,
             530,
             720,
             1160,
             1890,
             2450,
             3160,
             3200,
             2600,
             2030,
             1330,
             730,
             240,
             30,
             0,
             0,
             0,
             0,
             0
            ],
            "sizemode": "area",
            "sizeref": 1.506,
            "symbol": "circle"
           },
           "mode": "markers",
           "name": "",
           "orientation": "v",
           "showlegend": false,
           "type": "scatter",
           "x": [
            22720,
            21620,
            21390,
            21610,
            21700,
            21580,
            21560,
            22450,
            24030,
            25480,
            26160,
            26680,
            27080,
            27150,
            27230,
            27090,
            27640,
            28400,
            29020,
            28920,
            27890,
            26490,
            25100,
            23970
           ],
           "xaxis": "x",
           "y": [
            0,
            0,
            0,
            0,
            10,
            200,
            530,
            720,
            1160,
            1890,
            2450,
            3160,
            3200,
            2600,
            2030,
            1330,
            730,
            240,
            30,
            0,
            0,
            0,
            0,
            0
           ],
           "yaxis": "y"
          }
         ],
         "name": "2023-06-11 00:00:00"
        },
        {
         "data": [
          {
           "hovertemplate": "<b>%{hovertext}</b><br><br>date=2023-06-12 00:00:00<br>Electricity demand=%{x}<br>Solar output=%{marker.size}<br>price=%{marker.color}<extra></extra>",
           "hovertext": [
            8.43,
            8.31,
            8.1,
            8.03,
            8.02,
            7.88,
            7.82,
            8.03,
            8.45,
            10.74,
            10.82,
            11.18,
            10.72,
            11.35,
            12.53,
            13.34,
            13.59,
            13.59,
            13.59,
            13.59,
            11.52,
            10.47,
            10.16,
            8.88
           ],
           "legendgroup": "",
           "marker": {
            "color": [
             8.43,
             8.31,
             8.1,
             8.03,
             8.02,
             7.88,
             7.82,
             8.03,
             8.45,
             10.74,
             10.82,
             11.18,
             10.72,
             11.35,
             12.53,
             13.34,
             13.59,
             13.59,
             13.59,
             13.59,
             11.52,
             10.47,
             10.16,
             8.88
            ],
            "coloraxis": "coloraxis",
            "size": [
             0,
             0,
             0,
             0,
             10,
             220,
             540,
             1070,
             1570,
             2210,
             2660,
             2870,
             2570,
             1910,
             1920,
             1170,
             590,
             230,
             40,
             0,
             0,
             0,
             0,
             0
            ],
            "sizemode": "area",
            "sizeref": 1.506,
            "symbol": "circle"
           },
           "mode": "markers",
           "name": "",
           "orientation": "v",
           "showlegend": false,
           "type": "scatter",
           "x": [
            22310,
            21260,
            21070,
            21510,
            21900,
            22320,
            23860,
            26650,
            30210,
            32970,
            33500,
            33660,
            32620,
            33420,
            34020,
            33740,
            33740,
            33240,
            32930,
            32100,
            30630,
            29000,
            27740,
            26340
           ],
           "xaxis": "x",
           "y": [
            0,
            0,
            0,
            0,
            10,
            220,
            540,
            1070,
            1570,
            2210,
            2660,
            2870,
            2570,
            1910,
            1920,
            1170,
            590,
            230,
            40,
            0,
            0,
            0,
            0,
            0
           ],
           "yaxis": "y"
          }
         ],
         "name": "2023-06-12 00:00:00"
        },
        {
         "data": [
          {
           "hovertemplate": "<b>%{hovertext}</b><br><br>date=2023-06-13 00:00:00<br>Electricity demand=%{x}<br>Solar output=%{marker.size}<br>price=%{marker.color}<extra></extra>",
           "hovertext": [
            9.52,
            8.72,
            8.24,
            8.06,
            8.02,
            8.1,
            8.15,
            7.98,
            7.93,
            8.05,
            7.65,
            7.25,
            5,
            8.43,
            11.13,
            13.92,
            14.01,
            14.01,
            14.01,
            14.01,
            14.01,
            11.03,
            10.71,
            10.02
           ],
           "legendgroup": "",
           "marker": {
            "color": [
             9.52,
             8.72,
             8.24,
             8.06,
             8.02,
             8.1,
             8.15,
             7.98,
             7.93,
             8.05,
             7.65,
             7.25,
             5,
             8.43,
             11.13,
             13.92,
             14.01,
             14.01,
             14.01,
             14.01,
             14.01,
             11.03,
             10.71,
             10.02
            ],
            "coloraxis": "coloraxis",
            "size": [
             0,
             0,
             0,
             0,
             10,
             500,
             1560,
             3320,
             6180,
             9510,
             11550,
             12000,
             11960,
             11300,
             9320,
             6540,
             3620,
             1270,
             170,
             0,
             0,
             0,
             0,
             0
            ],
            "sizemode": "area",
            "sizeref": 1.506,
            "symbol": "circle"
           },
           "mode": "markers",
           "name": "",
           "orientation": "v",
           "showlegend": false,
           "type": "scatter",
           "x": [
            24400,
            23060,
            22770,
            23100,
            23300,
            23580,
            24970,
            27320,
            30970,
            34570,
            36900,
            38060,
            37190,
            38980,
            39310,
            38370,
            37730,
            35760,
            34760,
            33890,
            32320,
            30500,
            29060,
            27520
           ],
           "xaxis": "x",
           "y": [
            0,
            0,
            0,
            0,
            10,
            500,
            1560,
            3320,
            6180,
            9510,
            11550,
            12000,
            11960,
            11300,
            9320,
            6540,
            3620,
            1270,
            170,
            0,
            0,
            0,
            0,
            0
           ],
           "yaxis": "y"
          }
         ],
         "name": "2023-06-13 00:00:00"
        },
        {
         "data": [
          {
           "hovertemplate": "<b>%{hovertext}</b><br><br>date=2023-06-14 00:00:00<br>Electricity demand=%{x}<br>Solar output=%{marker.size}<br>price=%{marker.color}<extra></extra>",
           "hovertext": [
            9.42,
            8.67,
            8.69,
            8.85,
            8.71,
            8.63,
            10.07,
            10.1,
            12.09,
            13.57,
            13.58,
            13.39,
            10.83,
            11.12,
            11.35,
            11.6,
            11.12,
            12.23,
            13.62,
            13.62,
            11.12,
            10.31,
            9.17,
            9.02
           ],
           "legendgroup": "",
           "marker": {
            "color": [
             9.42,
             8.67,
             8.69,
             8.85,
             8.71,
             8.63,
             10.07,
             10.1,
             12.09,
             13.57,
             13.58,
             13.39,
             10.83,
             11.12,
             11.35,
             11.6,
             11.12,
             12.23,
             13.62,
             13.62,
             11.12,
             10.31,
             9.17,
             9.02
            ],
            "coloraxis": "coloraxis",
            "size": [
             0,
             0,
             0,
             0,
             10,
             120,
             580,
             1300,
             2520,
             3900,
             3670,
             3690,
             3270,
             3130,
             2310,
             1360,
             960,
             740,
             120,
             0,
             0,
             0,
             0,
             0
            ],
            "sizemode": "area",
            "sizeref": 1.506,
            "symbol": "circle"
           },
           "mode": "markers",
           "name": "",
           "orientation": "v",
           "showlegend": false,
           "type": "scatter",
           "x": [
            25350,
            23970,
            23590,
            23780,
            23960,
            24100,
            25460,
            28250,
            32360,
            35840,
            36410,
            36400,
            35020,
            35950,
            35870,
            34880,
            34440,
            34130,
            33720,
            33040,
            31540,
            29810,
            28530,
            26990
           ],
           "xaxis": "x",
           "y": [
            0,
            0,
            0,
            0,
            10,
            120,
            580,
            1300,
            2520,
            3900,
            3670,
            3690,
            3270,
            3130,
            2310,
            1360,
            960,
            740,
            120,
            0,
            0,
            0,
            0,
            0
           ],
           "yaxis": "y"
          }
         ],
         "name": "2023-06-14 00:00:00"
        },
        {
         "data": [
          {
           "hovertemplate": "<b>%{hovertext}</b><br><br>date=2023-06-15 00:00:00<br>Electricity demand=%{x}<br>Solar output=%{marker.size}<br>price=%{marker.color}<extra></extra>",
           "hovertext": [
            10.32,
            8.9,
            8.71,
            9.02,
            9.27,
            9.11,
            9.69,
            11,
            10.75,
            11.67,
            11.31,
            11.6,
            10.73,
            11.45,
            11.74,
            12.1,
            12.68,
            12.68,
            13.1,
            12.68,
            10.74,
            9.28,
            9.83,
            9.41
           ],
           "legendgroup": "",
           "marker": {
            "color": [
             10.32,
             8.9,
             8.71,
             9.02,
             9.27,
             9.11,
             9.69,
             11,
             10.75,
             11.67,
             11.31,
             11.6,
             10.73,
             11.45,
             11.74,
             12.1,
             12.68,
             12.68,
             13.1,
             12.68,
             10.74,
             9.28,
             9.83,
             9.41
            ],
            "coloraxis": "coloraxis",
            "size": [
             0,
             0,
             0,
             0,
             10,
             200,
             700,
             1460,
             2290,
             3020,
             4620,
             4160,
             2330,
             1740,
             1380,
             1210,
             670,
             250,
             40,
             0,
             0,
             0,
             0,
             0
            ],
            "sizemode": "area",
            "sizeref": 1.506,
            "symbol": "circle"
           },
           "mode": "markers",
           "name": "",
           "orientation": "v",
           "showlegend": false,
           "type": "scatter",
           "x": [
            25050,
            23740,
            23340,
            23610,
            23830,
            23990,
            24900,
            27500,
            31300,
            34060,
            34750,
            35920,
            34080,
            35190,
            35070,
            34720,
            34690,
            33900,
            33580,
            32610,
            31090,
            29420,
            28090,
            26620
           ],
           "xaxis": "x",
           "y": [
            0,
            0,
            0,
            0,
            10,
            200,
            700,
            1460,
            2290,
            3020,
            4620,
            4160,
            2330,
            1740,
            1380,
            1210,
            670,
            250,
            40,
            0,
            0,
            0,
            0,
            0
           ],
           "yaxis": "y"
          }
         ],
         "name": "2023-06-15 00:00:00"
        },
        {
         "data": [
          {
           "hovertemplate": "<b>%{hovertext}</b><br><br>date=2023-06-16 00:00:00<br>Electricity demand=%{x}<br>Solar output=%{marker.size}<br>price=%{marker.color}<extra></extra>",
           "hovertext": [
            10.13,
            8.77,
            9.1,
            9.36,
            9.53,
            9.25,
            9.48,
            9.77,
            8.63,
            8.62,
            8.63,
            8.49,
            8.38,
            8.9,
            8.76,
            9.63,
            10.83,
            11.12,
            13.56,
            14.14,
            11.19,
            10.26,
            10.56,
            9.9
           ],
           "legendgroup": "",
           "marker": {
            "color": [
             10.13,
             8.77,
             9.1,
             9.36,
             9.53,
             9.25,
             9.48,
             9.77,
             8.63,
             8.62,
             8.63,
             8.49,
             8.38,
             8.9,
             8.76,
             9.63,
             10.83,
             11.12,
             13.56,
             14.14,
             11.19,
             10.26,
             10.56,
             9.9
            ],
            "coloraxis": "coloraxis",
            "size": [
             0,
             0,
             0,
             0,
             10,
             670,
             2690,
             5910,
             9050,
             11660,
             12390,
             12550,
             12070,
             11420,
             9530,
             7040,
             4530,
             1930,
             300,
             0,
             0,
             0,
             0,
             0
            ],
            "sizemode": "area",
            "sizeref": 1.506,
            "symbol": "circle"
           },
           "mode": "markers",
           "name": "",
           "orientation": "v",
           "showlegend": false,
           "type": "scatter",
           "x": [
            24630,
            23330,
            23050,
            23250,
            23370,
            23470,
            24810,
            27840,
            32160,
            36280,
            37720,
            38390,
            37120,
            38460,
            38460,
            37670,
            36830,
            35090,
            33730,
            32930,
            31220,
            29310,
            27940,
            26340
           ],
           "xaxis": "x",
           "y": [
            0,
            0,
            0,
            0,
            10,
            670,
            2690,
            5910,
            9050,
            11660,
            12390,
            12550,
            12070,
            11420,
            9530,
            7040,
            4530,
            1930,
            300,
            0,
            0,
            0,
            0,
            0
           ],
           "yaxis": "y"
          }
         ],
         "name": "2023-06-16 00:00:00"
        },
        {
         "data": [
          {
           "hovertemplate": "<b>%{hovertext}</b><br><br>date=2023-06-17 00:00:00<br>Electricity demand=%{x}<br>Solar output=%{marker.size}<br>price=%{marker.color}<extra></extra>",
           "hovertext": [
            10.8,
            9.79,
            9.9,
            10.01,
            10.49,
            9.34,
            6.47,
            7,
            7.55,
            7.5,
            7.65,
            7.62,
            7.69,
            5,
            8.06,
            8.96,
            11.27,
            13.16,
            13.82,
            13.82,
            13.82,
            12.08,
            10.97,
            10.87
           ],
           "legendgroup": "",
           "marker": {
            "color": [
             10.8,
             9.79,
             9.9,
             10.01,
             10.49,
             9.34,
             6.47,
             7,
             7.55,
             7.5,
             7.65,
             7.62,
             7.69,
             5,
             8.06,
             8.96,
             11.27,
             13.16,
             13.82,
             13.82,
             13.82,
             12.08,
             10.97,
             10.87
            ],
            "coloraxis": "coloraxis",
            "size": [
             0,
             0,
             0,
             0,
             10,
             970,
             3520,
             7040,
             10230,
             12690,
             14200,
             14650,
             14230,
             13200,
             11230,
             8510,
             5120,
             1990,
             300,
             0,
             0,
             0,
             0,
             0
            ],
            "sizemode": "area",
            "sizeref": 1.506,
            "symbol": "circle"
           },
           "mode": "markers",
           "name": "",
           "orientation": "v",
           "showlegend": false,
           "type": "scatter",
           "x": [
            24330,
            22890,
            22400,
            22580,
            22420,
            22190,
            22350,
            23880,
            26700,
            29530,
            31240,
            32250,
            32330,
            32630,
            32450,
            32490,
            32530,
            32100,
            31520,
            31330,
            30090,
            28390,
            27050,
            25660
           ],
           "xaxis": "x",
           "y": [
            0,
            0,
            0,
            0,
            10,
            970,
            3520,
            7040,
            10230,
            12690,
            14200,
            14650,
            14230,
            13200,
            11230,
            8510,
            5120,
            1990,
            300,
            0,
            0,
            0,
            0,
            0
           ],
           "yaxis": "y"
          }
         ],
         "name": "2023-06-17 00:00:00"
        },
        {
         "data": [
          {
           "hovertemplate": "<b>%{hovertext}</b><br><br>date=2023-06-18 00:00:00<br>Electricity demand=%{x}<br>Solar output=%{marker.size}<br>price=%{marker.color}<extra></extra>",
           "hovertext": [
            10.81,
            10.47,
            9.79,
            9.89,
            9.99,
            9.14,
            7.71,
            7.45,
            7.24,
            6.79,
            7.38,
            7.61,
            7.89,
            8.25,
            8.88,
            9.78,
            12.51,
            13.38,
            13.93,
            13.54,
            13.38,
            11.68,
            10.92,
            10.27
           ],
           "legendgroup": "",
           "marker": {
            "color": [
             10.81,
             10.47,
             9.79,
             9.89,
             9.99,
             9.14,
             7.71,
             7.45,
             7.24,
             6.79,
             7.38,
             7.61,
             7.89,
             8.25,
             8.88,
             9.78,
             12.51,
             13.38,
             13.93,
             13.54,
             13.38,
             11.68,
             10.92,
             10.27
            ],
            "coloraxis": "coloraxis",
            "size": [
             0,
             0,
             0,
             0,
             10,
             950,
             3330,
             6460,
             9200,
             11460,
             11130,
             10330,
             9530,
             8990,
             8560,
             6860,
             4100,
             1610,
             250,
             0,
             0,
             0,
             0,
             0
            ],
            "sizemode": "area",
            "sizeref": 1.506,
            "symbol": "circle"
           },
           "mode": "markers",
           "name": "",
           "orientation": "v",
           "showlegend": false,
           "type": "scatter",
           "x": [
            23670,
            22370,
            21950,
            22070,
            21960,
            21650,
            21910,
            23490,
            26050,
            29310,
            30650,
            31150,
            31370,
            31600,
            31900,
            32240,
            32130,
            32060,
            32200,
            32360,
            31080,
            29350,
            27590,
            26000
           ],
           "xaxis": "x",
           "y": [
            0,
            0,
            0,
            0,
            10,
            950,
            3330,
            6460,
            9200,
            11460,
            11130,
            10330,
            9530,
            8990,
            8560,
            6860,
            4100,
            1610,
            250,
            0,
            0,
            0,
            0,
            0
           ],
           "yaxis": "y"
          }
         ],
         "name": "2023-06-18 00:00:00"
        },
        {
         "data": [
          {
           "hovertemplate": "<b>%{hovertext}</b><br><br>date=2023-06-19 00:00:00<br>Electricity demand=%{x}<br>Solar output=%{marker.size}<br>price=%{marker.color}<extra></extra>",
           "hovertext": [
            11.25,
            10.16,
            10.02,
            9.68,
            9.45,
            9,
            8.34,
            8.19,
            8.86,
            9.88,
            9.16,
            8.7,
            8.77,
            8.93,
            8.95,
            10.72,
            10.92,
            11.28,
            13.05,
            13.44,
            11.29,
            10.42,
            10.26,
            9.49
           ],
           "legendgroup": "",
           "marker": {
            "color": [
             11.25,
             10.16,
             10.02,
             9.68,
             9.45,
             9,
             8.34,
             8.19,
             8.86,
             9.88,
             9.16,
             8.7,
             8.77,
             8.93,
             8.95,
             10.72,
             10.92,
             11.28,
             13.05,
             13.44,
             11.29,
             10.42,
             10.26,
             9.49
            ],
            "coloraxis": "coloraxis",
            "size": [
             0,
             0,
             0,
             0,
             10,
             700,
             2310,
             4660,
             7010,
             9320,
             11340,
             12110,
             12350,
             11380,
             9490,
             7110,
             4070,
             1670,
             240,
             0,
             0,
             0,
             0,
             0
            ],
            "sizemode": "area",
            "sizeref": 1.506,
            "symbol": "circle"
           },
           "mode": "markers",
           "name": "",
           "orientation": "v",
           "showlegend": false,
           "type": "scatter",
           "x": [
            23930,
            22460,
            21910,
            22210,
            22410,
            22830,
            24490,
            27810,
            32030,
            35350,
            36920,
            37850,
            37100,
            38410,
            38100,
            37230,
            36330,
            35080,
            33640,
            32710,
            30950,
            29130,
            27930,
            26380
           ],
           "xaxis": "x",
           "y": [
            0,
            0,
            0,
            0,
            10,
            700,
            2310,
            4660,
            7010,
            9320,
            11340,
            12110,
            12350,
            11380,
            9490,
            7110,
            4070,
            1670,
            240,
            0,
            0,
            0,
            0,
            0
           ],
           "yaxis": "y"
          }
         ],
         "name": "2023-06-19 00:00:00"
        },
        {
         "data": [
          {
           "hovertemplate": "<b>%{hovertext}</b><br><br>date=2023-06-20 00:00:00<br>Electricity demand=%{x}<br>Solar output=%{marker.size}<br>price=%{marker.color}<extra></extra>",
           "hovertext": [
            10.31,
            9.79,
            9.9,
            9.37,
            9.5,
            9.13,
            8.33,
            8.05,
            8.53,
            9.18,
            8.51,
            8.47,
            7.89,
            8.56,
            8.26,
            9.28,
            11.48,
            12,
            12.44,
            12.53,
            11.22,
            10.35,
            10.73,
            9.9
           ],
           "legendgroup": "",
           "marker": {
            "color": [
             10.31,
             9.79,
             9.9,
             9.37,
             9.5,
             9.13,
             8.33,
             8.05,
             8.53,
             9.18,
             8.51,
             8.47,
             7.89,
             8.56,
             8.26,
             9.28,
             11.48,
             12,
             12.44,
             12.53,
             11.22,
             10.35,
             10.73,
             9.9
            ],
            "coloraxis": "coloraxis",
            "size": [
             0,
             0,
             0,
             0,
             10,
             470,
             1860,
             4230,
             6660,
             8880,
             9610,
             9270,
             10070,
             10710,
             10020,
             7960,
             4750,
             1890,
             280,
             0,
             0,
             0,
             0,
             0
            ],
            "sizemode": "area",
            "sizeref": 1.506,
            "symbol": "circle"
           },
           "mode": "markers",
           "name": "",
           "orientation": "v",
           "showlegend": false,
           "type": "scatter",
           "x": [
            24360,
            23190,
            22880,
            23080,
            23390,
            23460,
            24440,
            26650,
            30620,
            34150,
            35400,
            35370,
            34110,
            35930,
            36390,
            36300,
            35860,
            34340,
            33540,
            32750,
            31120,
            29260,
            27930,
            26440
           ],
           "xaxis": "x",
           "y": [
            0,
            0,
            0,
            0,
            10,
            470,
            1860,
            4230,
            6660,
            8880,
            9610,
            9270,
            10070,
            10710,
            10020,
            7960,
            4750,
            1890,
            280,
            0,
            0,
            0,
            0,
            0
           ],
           "yaxis": "y"
          }
         ],
         "name": "2023-06-20 00:00:00"
        },
        {
         "data": [
          {
           "hovertemplate": "<b>%{hovertext}</b><br><br>date=2023-06-21 00:00:00<br>Electricity demand=%{x}<br>Solar output=%{marker.size}<br>price=%{marker.color}<extra></extra>",
           "hovertext": [
            9.91,
            9.91,
            9.79,
            10.09,
            9.89,
            9.33,
            8.49,
            8.27,
            8.65,
            9.33,
            8.71,
            9,
            8.65,
            9.56,
            10.81,
            10.84,
            11.19,
            11.26,
            12.01,
            12.15,
            11.31,
            10.31,
            10.3,
            9.7
           ],
           "legendgroup": "",
           "marker": {
            "color": [
             9.91,
             9.91,
             9.79,
             10.09,
             9.89,
             9.33,
             8.49,
             8.27,
             8.65,
             9.33,
             8.71,
             9,
             8.65,
             9.56,
             10.81,
             10.84,
             11.19,
             11.26,
             12.01,
             12.15,
             11.31,
             10.31,
             10.3,
             9.7
            ],
            "coloraxis": "coloraxis",
            "size": [
             0,
             0,
             0,
             0,
             10,
             720,
             3140,
             6310,
             8950,
             11260,
             12280,
             11790,
             10620,
             8320,
             5970,
             4690,
             3320,
             1530,
             230,
             0,
             0,
             0,
             0,
             0
            ],
            "sizemode": "area",
            "sizeref": 1.506,
            "symbol": "circle"
           },
           "mode": "markers",
           "name": "",
           "orientation": "v",
           "showlegend": false,
           "type": "scatter",
           "x": [
            24410,
            23130,
            22740,
            22910,
            23090,
            23180,
            24360,
            27330,
            31710,
            35020,
            36520,
            36470,
            35180,
            36020,
            34970,
            34110,
            34210,
            33230,
            32720,
            32300,
            30800,
            29010,
            27640,
            26210
           ],
           "xaxis": "x",
           "y": [
            0,
            0,
            0,
            0,
            10,
            720,
            3140,
            6310,
            8950,
            11260,
            12280,
            11790,
            10620,
            8320,
            5970,
            4690,
            3320,
            1530,
            230,
            0,
            0,
            0,
            0,
            0
           ],
           "yaxis": "y"
          }
         ],
         "name": "2023-06-21 00:00:00"
        },
        {
         "data": [
          {
           "hovertemplate": "<b>%{hovertext}</b><br><br>date=2023-06-22 00:00:00<br>Electricity demand=%{x}<br>Solar output=%{marker.size}<br>price=%{marker.color}<extra></extra>",
           "hovertext": [
            9.6,
            9.06,
            9.34,
            9.59,
            9.78,
            9.08,
            9.03,
            10.35,
            10.4,
            10.93,
            10.94,
            11.07,
            10.07,
            11.02,
            11.25,
            11.12,
            11.2,
            11.01,
            11.05,
            10.97,
            10.49,
            9.52,
            9.91,
            9.98
           ],
           "legendgroup": "",
           "marker": {
            "color": [
             9.6,
             9.06,
             9.34,
             9.59,
             9.78,
             9.08,
             9.03,
             10.35,
             10.4,
             10.93,
             10.94,
             11.07,
             10.07,
             11.02,
             11.25,
             11.12,
             11.2,
             11.01,
             11.05,
             10.97,
             10.49,
             9.52,
             9.91,
             9.98
            ],
            "coloraxis": "coloraxis",
            "size": [
             0,
             0,
             0,
             0,
             10,
             420,
             1190,
             1760,
             1930,
             1540,
             1890,
             2230,
             2190,
             2010,
             1780,
             1120,
             580,
             240,
             40,
             0,
             0,
             0,
             0,
             0
            ],
            "sizemode": "area",
            "sizeref": 1.506,
            "symbol": "circle"
           },
           "mode": "markers",
           "name": "",
           "orientation": "v",
           "showlegend": false,
           "type": "scatter",
           "x": [
            24340,
            23060,
            22730,
            23000,
            23250,
            23460,
            24790,
            27280,
            31170,
            33720,
            34120,
            34150,
            32340,
            33210,
            33250,
            32800,
            32790,
            32390,
            32060,
            31100,
            29680,
            27900,
            26530,
            25180
           ],
           "xaxis": "x",
           "y": [
            0,
            0,
            0,
            0,
            10,
            420,
            1190,
            1760,
            1930,
            1540,
            1890,
            2230,
            2190,
            2010,
            1780,
            1120,
            580,
            240,
            40,
            0,
            0,
            0,
            0,
            0
           ],
           "yaxis": "y"
          }
         ],
         "name": "2023-06-22 00:00:00"
        },
        {
         "data": [
          {
           "hovertemplate": "<b>%{hovertext}</b><br><br>date=2023-06-23 00:00:00<br>Electricity demand=%{x}<br>Solar output=%{marker.size}<br>price=%{marker.color}<extra></extra>",
           "hovertext": [
            8.96,
            8.93,
            8.9,
            9.18,
            9.06,
            8.78,
            9.32,
            9.19,
            10.34,
            10.79,
            10.93,
            11.22,
            10.47,
            11.09,
            11.19,
            12.19,
            13.06,
            14,
            14,
            14.32,
            14.5,
            12.02,
            11.03,
            10.35
           ],
           "legendgroup": "",
           "marker": {
            "color": [
             8.96,
             8.93,
             8.9,
             9.18,
             9.06,
             8.78,
             9.32,
             9.19,
             10.34,
             10.79,
             10.93,
             11.22,
             10.47,
             11.09,
             11.19,
             12.19,
             13.06,
             14,
             14,
             14.32,
             14.5,
             12.02,
             11.03,
             10.35
            ],
            "coloraxis": "coloraxis",
            "size": [
             0,
             0,
             0,
             0,
             10,
             190,
             730,
             1620,
             2630,
             3540,
             4110,
             4860,
             5770,
             5340,
             4480,
             2910,
             1660,
             710,
             100,
             0,
             0,
             0,
             0,
             0
            ],
            "sizemode": "area",
            "sizeref": 1.506,
            "symbol": "circle"
           },
           "mode": "markers",
           "name": "",
           "orientation": "v",
           "showlegend": false,
           "type": "scatter",
           "x": [
            23360,
            22340,
            22200,
            22570,
            22920,
            23080,
            24150,
            26040,
            29220,
            31790,
            32150,
            32490,
            31760,
            33270,
            34060,
            33520,
            33190,
            32330,
            32080,
            31620,
            30260,
            28670,
            27530,
            26150
           ],
           "xaxis": "x",
           "y": [
            0,
            0,
            0,
            0,
            10,
            190,
            730,
            1620,
            2630,
            3540,
            4110,
            4860,
            5770,
            5340,
            4480,
            2910,
            1660,
            710,
            100,
            0,
            0,
            0,
            0,
            0
           ],
           "yaxis": "y"
          }
         ],
         "name": "2023-06-23 00:00:00"
        },
        {
         "data": [
          {
           "hovertemplate": "<b>%{hovertext}</b><br><br>date=2023-06-24 00:00:00<br>Electricity demand=%{x}<br>Solar output=%{marker.size}<br>price=%{marker.color}<extra></extra>",
           "hovertext": [
            13.12,
            12.67,
            13.49,
            13.49,
            12.96,
            12.43,
            11.72,
            11.5,
            12.16,
            12.24,
            12.43,
            12.4,
            12.89,
            13.63,
            13.01,
            15.04,
            16.04,
            16.03,
            16.18,
            16.22,
            16.22,
            14.29,
            14.97,
            13.79
           ],
           "legendgroup": "",
           "marker": {
            "color": [
             13.12,
             12.67,
             13.49,
             13.49,
             12.96,
             12.43,
             11.72,
             11.5,
             12.16,
             12.24,
             12.43,
             12.4,
             12.89,
             13.63,
             13.01,
             15.04,
             16.04,
             16.03,
             16.18,
             16.22,
             16.22,
             14.29,
             14.97,
             13.79
            ],
            "coloraxis": "coloraxis",
            "size": [
             0,
             0,
             0,
             0,
             10,
             510,
             2160,
             5290,
             8420,
             10930,
             11890,
             10920,
             9060,
             7650,
             6390,
             5090,
             2890,
             1280,
             220,
             0,
             0,
             0,
             0,
             0
            ],
            "sizemode": "area",
            "sizeref": 1.506,
            "symbol": "circle"
           },
           "mode": "markers",
           "name": "",
           "orientation": "v",
           "showlegend": false,
           "type": "scatter",
           "x": [
            24200,
            22960,
            22550,
            22700,
            22670,
            22020,
            22210,
            23750,
            26600,
            29640,
            31410,
            32060,
            31290,
            31050,
            30990,
            31070,
            30430,
            30010,
            30390,
            30720,
            29620,
            28000,
            26770,
            25440
           ],
           "xaxis": "x",
           "y": [
            0,
            0,
            0,
            0,
            10,
            510,
            2160,
            5290,
            8420,
            10930,
            11890,
            10920,
            9060,
            7650,
            6390,
            5090,
            2890,
            1280,
            220,
            0,
            0,
            0,
            0,
            0
           ],
           "yaxis": "y"
          }
         ],
         "name": "2023-06-24 00:00:00"
        },
        {
         "data": [
          {
           "hovertemplate": "<b>%{hovertext}</b><br><br>date=2023-06-25 00:00:00<br>Electricity demand=%{x}<br>Solar output=%{marker.size}<br>price=%{marker.color}<extra></extra>",
           "hovertext": [
            14.35,
            12.29,
            12.19,
            12.26,
            12.29,
            12.02,
            11.43,
            10.07,
            9.85,
            9.83,
            7.17,
            2.83,
            4.01,
            5.51,
            10.24,
            10.8,
            12.16,
            15.03,
            16.27,
            16.27,
            15.64,
            14.49,
            13.83,
            12.78
           ],
           "legendgroup": "",
           "marker": {
            "color": [
             14.35,
             12.29,
             12.19,
             12.26,
             12.29,
             12.02,
             11.43,
             10.07,
             9.85,
             9.83,
             7.17,
             2.83,
             4.01,
             5.51,
             10.24,
             10.8,
             12.16,
             15.03,
             16.27,
             16.27,
             15.64,
             14.49,
             13.83,
             12.78
            ],
            "coloraxis": "coloraxis",
            "size": [
             0,
             0,
             0,
             0,
             10,
             760,
             2700,
             5340,
             7660,
             9980,
             11670,
             12530,
             12260,
             11430,
             9850,
             7420,
             4450,
             1820,
             280,
             0,
             0,
             0,
             0,
             0
            ],
            "sizemode": "area",
            "sizeref": 1.506,
            "symbol": "circle"
           },
           "mode": "markers",
           "name": "",
           "orientation": "v",
           "showlegend": false,
           "type": "scatter",
           "x": [
            23590,
            22250,
            21790,
            22000,
            21880,
            21390,
            21680,
            23350,
            25620,
            28340,
            30280,
            31680,
            32330,
            32370,
            32420,
            32530,
            32380,
            32100,
            32040,
            31990,
            30830,
            29160,
            27490,
            25970
           ],
           "xaxis": "x",
           "y": [
            0,
            0,
            0,
            0,
            10,
            760,
            2700,
            5340,
            7660,
            9980,
            11670,
            12530,
            12260,
            11430,
            9850,
            7420,
            4450,
            1820,
            280,
            0,
            0,
            0,
            0,
            0
           ],
           "yaxis": "y"
          }
         ],
         "name": "2023-06-25 00:00:00"
        },
        {
         "data": [
          {
           "hovertemplate": "<b>%{hovertext}</b><br><br>date=2023-06-26 00:00:00<br>Electricity demand=%{x}<br>Solar output=%{marker.size}<br>price=%{marker.color}<extra></extra>",
           "hovertext": [
            12.12,
            11.37,
            11.44,
            11.73,
            11.79,
            11.68,
            11.65,
            11.69,
            12.45,
            12.84,
            12.33,
            12.49,
            12.03,
            13.45,
            13.93,
            15.29,
            16.13,
            16.16,
            16.45,
            16.41,
            16.46,
            15.38,
            15.17,
            12.72
           ],
           "legendgroup": "",
           "marker": {
            "color": [
             12.12,
             11.37,
             11.44,
             11.73,
             11.79,
             11.68,
             11.65,
             11.69,
             12.45,
             12.84,
             12.33,
             12.49,
             12.03,
             13.45,
             13.93,
             15.29,
             16.13,
             16.16,
             16.45,
             16.41,
             16.46,
             15.38,
             15.17,
             12.72
            ],
            "coloraxis": "coloraxis",
            "size": [
             0,
             0,
             0,
             0,
             10,
             520,
             1430,
             2700,
             4130,
             6040,
             8150,
             9640,
             10110,
             9430,
             8370,
             6190,
             3470,
             1210,
             180,
             0,
             0,
             0,
             0,
             0
            ],
            "sizemode": "area",
            "sizeref": 1.506,
            "symbol": "circle"
           },
           "mode": "markers",
           "name": "",
           "orientation": "v",
           "showlegend": false,
           "type": "scatter",
           "x": [
            24010,
            22580,
            22130,
            22380,
            22560,
            22830,
            24430,
            27680,
            32320,
            36210,
            38050,
            39290,
            39030,
            40390,
            40910,
            40560,
            40080,
            37930,
            36810,
            35880,
            34000,
            31940,
            30290,
            28580
           ],
           "xaxis": "x",
           "y": [
            0,
            0,
            0,
            0,
            10,
            520,
            1430,
            2700,
            4130,
            6040,
            8150,
            9640,
            10110,
            9430,
            8370,
            6190,
            3470,
            1210,
            180,
            0,
            0,
            0,
            0,
            0
           ],
           "yaxis": "y"
          }
         ],
         "name": "2023-06-26 00:00:00"
        },
        {
         "data": [
          {
           "hovertemplate": "<b>%{hovertext}</b><br><br>date=2023-06-27 00:00:00<br>Electricity demand=%{x}<br>Solar output=%{marker.size}<br>price=%{marker.color}<extra></extra>",
           "hovertext": [
            12.61,
            12.25,
            12.31,
            12.25,
            12.2,
            12.22,
            12.25,
            12.33,
            12.71,
            15,
            16.14,
            16.25,
            14.25,
            16.4,
            16.28,
            16.25,
            16.41,
            16.26,
            16.49,
            16.57,
            15.51,
            13.91,
            14.13,
            12.43
           ],
           "legendgroup": "",
           "marker": {
            "color": [
             12.61,
             12.25,
             12.31,
             12.25,
             12.2,
             12.22,
             12.25,
             12.33,
             12.71,
             15,
             16.14,
             16.25,
             14.25,
             16.4,
             16.28,
             16.25,
             16.41,
             16.26,
             16.49,
             16.57,
             15.51,
             13.91,
             14.13,
             12.43
            ],
            "coloraxis": "coloraxis",
            "size": [
             0,
             0,
             0,
             0,
             10,
             350,
             1250,
             2920,
             4500,
             5280,
             5400,
             6100,
             6840,
             6310,
             5100,
             3510,
             2080,
             1070,
             190,
             0,
             0,
             0,
             0,
             0
            ],
            "sizemode": "area",
            "sizeref": 1.506,
            "symbol": "circle"
           },
           "mode": "markers",
           "name": "",
           "orientation": "v",
           "showlegend": false,
           "type": "scatter",
           "x": [
            26210,
            24670,
            24150,
            24290,
            24410,
            24540,
            25940,
            29080,
            34040,
            37730,
            38530,
            38930,
            38620,
            40430,
            40710,
            39940,
            39130,
            37910,
            37340,
            36720,
            34970,
            32900,
            31270,
            29330
           ],
           "xaxis": "x",
           "y": [
            0,
            0,
            0,
            0,
            10,
            350,
            1250,
            2920,
            4500,
            5280,
            5400,
            6100,
            6840,
            6310,
            5100,
            3510,
            2080,
            1070,
            190,
            0,
            0,
            0,
            0,
            0
           ],
           "yaxis": "y"
          }
         ],
         "name": "2023-06-27 00:00:00"
        },
        {
         "data": [
          {
           "hovertemplate": "<b>%{hovertext}</b><br><br>date=2023-06-28 00:00:00<br>Electricity demand=%{x}<br>Solar output=%{marker.size}<br>price=%{marker.color}<extra></extra>",
           "hovertext": [
            12.11,
            11.91,
            11.88,
            11.88,
            11.88,
            11.8,
            11.88,
            11.94,
            12.34,
            12.62,
            12.69,
            12.77,
            12.42,
            15.19,
            16.04,
            16.15,
            16.26,
            16.37,
            16.65,
            16.74,
            16.61,
            15.61,
            15.28,
            13.5
           ],
           "legendgroup": "",
           "marker": {
            "color": [
             12.11,
             11.91,
             11.88,
             11.88,
             11.88,
             11.8,
             11.88,
             11.94,
             12.34,
             12.62,
             12.69,
             12.77,
             12.42,
             15.19,
             16.04,
             16.15,
             16.26,
             16.37,
             16.65,
             16.74,
             16.61,
             15.61,
             15.28,
             13.5
            ],
            "coloraxis": "coloraxis",
            "size": [
             0,
             0,
             0,
             0,
             0,
             630,
             2150,
             4250,
             5940,
             7650,
             8800,
             10770,
             11630,
             9990,
             7990,
             5130,
             2680,
             720,
             120,
             0,
             0,
             0,
             0,
             0
            ],
            "sizemode": "area",
            "sizeref": 1.506,
            "symbol": "circle"
           },
           "mode": "markers",
           "name": "",
           "orientation": "v",
           "showlegend": false,
           "type": "scatter",
           "x": [
            26830,
            25160,
            24600,
            24600,
            24680,
            24860,
            26870,
            30790,
            36320,
            40320,
            41850,
            43410,
            44000,
            45660,
            46200,
            44940,
            43980,
            40880,
            39680,
            38400,
            35970,
            33650,
            31860,
            29630
           ],
           "xaxis": "x",
           "y": [
            0,
            0,
            0,
            0,
            0,
            630,
            2150,
            4250,
            5940,
            7650,
            8800,
            10770,
            11630,
            9990,
            7990,
            5130,
            2680,
            720,
            120,
            0,
            0,
            0,
            0,
            0
           ],
           "yaxis": "y"
          }
         ],
         "name": "2023-06-28 00:00:00"
        },
        {
         "data": [
          {
           "hovertemplate": "<b>%{hovertext}</b><br><br>date=2023-06-29 00:00:00<br>Electricity demand=%{x}<br>Solar output=%{marker.size}<br>price=%{marker.color}<extra></extra>",
           "hovertext": [
            13.42,
            12.19,
            12.03,
            12.09,
            12.14,
            12.08,
            11.86,
            12.03,
            11.91,
            12.01,
            11.64,
            12.25,
            12.08,
            15,
            16.13,
            16.49,
            17.02,
            16.94,
            17.37,
            17.98,
            17.23,
            16.58,
            16.37,
            14.57
           ],
           "legendgroup": "",
           "marker": {
            "color": [
             13.42,
             12.19,
             12.03,
             12.09,
             12.14,
             12.08,
             11.86,
             12.03,
             11.91,
             12.01,
             11.64,
             12.25,
             12.08,
             15,
             16.13,
             16.49,
             17.02,
             16.94,
             17.37,
             17.98,
             17.23,
             16.58,
             16.37,
             14.57
            ],
            "coloraxis": "coloraxis",
            "size": [
             0,
             0,
             0,
             0,
             0,
             640,
             2220,
             4860,
             7940,
             10730,
             12740,
             13430,
             13370,
             12380,
             10210,
             7360,
             4460,
             1870,
             300,
             0,
             0,
             0,
             0,
             0
            ],
            "sizemode": "area",
            "sizeref": 1.506,
            "symbol": "circle"
           },
           "mode": "markers",
           "name": "",
           "orientation": "v",
           "showlegend": false,
           "type": "scatter",
           "x": [
            26990,
            25300,
            24680,
            24630,
            24650,
            24970,
            26750,
            30300,
            35890,
            40500,
            42850,
            44290,
            43960,
            46040,
            46580,
            45790,
            45110,
            43230,
            41410,
            40160,
            37900,
            35410,
            33390,
            31080
           ],
           "xaxis": "x",
           "y": [
            0,
            0,
            0,
            0,
            0,
            640,
            2220,
            4860,
            7940,
            10730,
            12740,
            13430,
            13370,
            12380,
            10210,
            7360,
            4460,
            1870,
            300,
            0,
            0,
            0,
            0,
            0
           ],
           "yaxis": "y"
          }
         ],
         "name": "2023-06-29 00:00:00"
        },
        {
         "data": [
          {
           "hovertemplate": "<b>%{hovertext}</b><br><br>date=2023-06-30 00:00:00<br>Electricity demand=%{x}<br>Solar output=%{marker.size}<br>price=%{marker.color}<extra></extra>",
           "hovertext": [
            12.63,
            12.31,
            12.16,
            12.03,
            12.01,
            11.93,
            11.98,
            12.35,
            13.84,
            16.1,
            15.79,
            15.97,
            14.78,
            15.68,
            16.16,
            16.52,
            16.93,
            16.92,
            16.92,
            16.74,
            16.37,
            15.06,
            14.91,
            12.21
           ],
           "legendgroup": "",
           "marker": {
            "color": [
             12.63,
             12.31,
             12.16,
             12.03,
             12.01,
             11.93,
             11.98,
             12.35,
             13.84,
             16.1,
             15.79,
             15.97,
             14.78,
             15.68,
             16.16,
             16.52,
             16.93,
             16.92,
             16.92,
             16.74,
             16.37,
             15.06,
             14.91,
             12.21
            ],
            "coloraxis": "coloraxis",
            "size": [
             0,
             0,
             0,
             0,
             0,
             470,
             1400,
             2300,
             3320,
             3380,
             2670,
             3700,
             5720,
             6560,
             6140,
             3680,
             1620,
             820,
             130,
             0,
             0,
             0,
             0,
             0
            ],
            "sizemode": "area",
            "sizeref": 1.506,
            "symbol": "circle"
           },
           "mode": "markers",
           "name": "",
           "orientation": "v",
           "showlegend": false,
           "type": "scatter",
           "x": [
            28250,
            26320,
            25550,
            25410,
            25440,
            25710,
            27670,
            31110,
            36640,
            40590,
            40500,
            39800,
            39690,
            42110,
            43640,
            42810,
            41190,
            39360,
            38410,
            37610,
            35720,
            33590,
            32090,
            30230
           ],
           "xaxis": "x",
           "y": [
            0,
            0,
            0,
            0,
            0,
            470,
            1400,
            2300,
            3320,
            3380,
            2670,
            3700,
            5720,
            6560,
            6140,
            3680,
            1620,
            820,
            130,
            0,
            0,
            0,
            0,
            0
           ],
           "yaxis": "y"
          }
         ],
         "name": "2023-06-30 00:00:00"
        }
       ],
       "layout": {
        "autosize": true,
        "coloraxis": {
         "colorbar": {
          "title": {
           "text": "price"
          }
         },
         "colorscale": [
          [
           0,
           "#0d0887"
          ],
          [
           0.1111111111111111,
           "#46039f"
          ],
          [
           0.2222222222222222,
           "#7201a8"
          ],
          [
           0.3333333333333333,
           "#9c179e"
          ],
          [
           0.4444444444444444,
           "#bd3786"
          ],
          [
           0.5555555555555556,
           "#d8576b"
          ],
          [
           0.6666666666666666,
           "#ed7953"
          ],
          [
           0.7777777777777778,
           "#fb9f3a"
          ],
          [
           0.8888888888888888,
           "#fdca26"
          ],
          [
           1,
           "#f0f921"
          ]
         ]
        },
        "legend": {
         "itemsizing": "constant",
         "tracegroupgap": 0
        },
        "sliders": [
         {
          "active": 0,
          "currentvalue": {
           "prefix": "date="
          },
          "len": 0.9,
          "pad": {
           "b": 10,
           "t": 60
          },
          "steps": [
           {
            "args": [
             [
              "2023-06-01 00:00:00"
             ],
             {
              "frame": {
               "duration": 0,
               "redraw": false
              },
              "fromcurrent": true,
              "mode": "immediate",
              "transition": {
               "duration": 0,
               "easing": "linear"
              }
             }
            ],
            "label": "2023-06-01 00:00:00",
            "method": "animate"
           },
           {
            "args": [
             [
              "2023-06-02 00:00:00"
             ],
             {
              "frame": {
               "duration": 0,
               "redraw": false
              },
              "fromcurrent": true,
              "mode": "immediate",
              "transition": {
               "duration": 0,
               "easing": "linear"
              }
             }
            ],
            "label": "2023-06-02 00:00:00",
            "method": "animate"
           },
           {
            "args": [
             [
              "2023-06-03 00:00:00"
             ],
             {
              "frame": {
               "duration": 0,
               "redraw": false
              },
              "fromcurrent": true,
              "mode": "immediate",
              "transition": {
               "duration": 0,
               "easing": "linear"
              }
             }
            ],
            "label": "2023-06-03 00:00:00",
            "method": "animate"
           },
           {
            "args": [
             [
              "2023-06-04 00:00:00"
             ],
             {
              "frame": {
               "duration": 0,
               "redraw": false
              },
              "fromcurrent": true,
              "mode": "immediate",
              "transition": {
               "duration": 0,
               "easing": "linear"
              }
             }
            ],
            "label": "2023-06-04 00:00:00",
            "method": "animate"
           },
           {
            "args": [
             [
              "2023-06-05 00:00:00"
             ],
             {
              "frame": {
               "duration": 0,
               "redraw": false
              },
              "fromcurrent": true,
              "mode": "immediate",
              "transition": {
               "duration": 0,
               "easing": "linear"
              }
             }
            ],
            "label": "2023-06-05 00:00:00",
            "method": "animate"
           },
           {
            "args": [
             [
              "2023-06-06 00:00:00"
             ],
             {
              "frame": {
               "duration": 0,
               "redraw": false
              },
              "fromcurrent": true,
              "mode": "immediate",
              "transition": {
               "duration": 0,
               "easing": "linear"
              }
             }
            ],
            "label": "2023-06-06 00:00:00",
            "method": "animate"
           },
           {
            "args": [
             [
              "2023-06-07 00:00:00"
             ],
             {
              "frame": {
               "duration": 0,
               "redraw": false
              },
              "fromcurrent": true,
              "mode": "immediate",
              "transition": {
               "duration": 0,
               "easing": "linear"
              }
             }
            ],
            "label": "2023-06-07 00:00:00",
            "method": "animate"
           },
           {
            "args": [
             [
              "2023-06-08 00:00:00"
             ],
             {
              "frame": {
               "duration": 0,
               "redraw": false
              },
              "fromcurrent": true,
              "mode": "immediate",
              "transition": {
               "duration": 0,
               "easing": "linear"
              }
             }
            ],
            "label": "2023-06-08 00:00:00",
            "method": "animate"
           },
           {
            "args": [
             [
              "2023-06-09 00:00:00"
             ],
             {
              "frame": {
               "duration": 0,
               "redraw": false
              },
              "fromcurrent": true,
              "mode": "immediate",
              "transition": {
               "duration": 0,
               "easing": "linear"
              }
             }
            ],
            "label": "2023-06-09 00:00:00",
            "method": "animate"
           },
           {
            "args": [
             [
              "2023-06-10 00:00:00"
             ],
             {
              "frame": {
               "duration": 0,
               "redraw": false
              },
              "fromcurrent": true,
              "mode": "immediate",
              "transition": {
               "duration": 0,
               "easing": "linear"
              }
             }
            ],
            "label": "2023-06-10 00:00:00",
            "method": "animate"
           },
           {
            "args": [
             [
              "2023-06-11 00:00:00"
             ],
             {
              "frame": {
               "duration": 0,
               "redraw": false
              },
              "fromcurrent": true,
              "mode": "immediate",
              "transition": {
               "duration": 0,
               "easing": "linear"
              }
             }
            ],
            "label": "2023-06-11 00:00:00",
            "method": "animate"
           },
           {
            "args": [
             [
              "2023-06-12 00:00:00"
             ],
             {
              "frame": {
               "duration": 0,
               "redraw": false
              },
              "fromcurrent": true,
              "mode": "immediate",
              "transition": {
               "duration": 0,
               "easing": "linear"
              }
             }
            ],
            "label": "2023-06-12 00:00:00",
            "method": "animate"
           },
           {
            "args": [
             [
              "2023-06-13 00:00:00"
             ],
             {
              "frame": {
               "duration": 0,
               "redraw": false
              },
              "fromcurrent": true,
              "mode": "immediate",
              "transition": {
               "duration": 0,
               "easing": "linear"
              }
             }
            ],
            "label": "2023-06-13 00:00:00",
            "method": "animate"
           },
           {
            "args": [
             [
              "2023-06-14 00:00:00"
             ],
             {
              "frame": {
               "duration": 0,
               "redraw": false
              },
              "fromcurrent": true,
              "mode": "immediate",
              "transition": {
               "duration": 0,
               "easing": "linear"
              }
             }
            ],
            "label": "2023-06-14 00:00:00",
            "method": "animate"
           },
           {
            "args": [
             [
              "2023-06-15 00:00:00"
             ],
             {
              "frame": {
               "duration": 0,
               "redraw": false
              },
              "fromcurrent": true,
              "mode": "immediate",
              "transition": {
               "duration": 0,
               "easing": "linear"
              }
             }
            ],
            "label": "2023-06-15 00:00:00",
            "method": "animate"
           },
           {
            "args": [
             [
              "2023-06-16 00:00:00"
             ],
             {
              "frame": {
               "duration": 0,
               "redraw": false
              },
              "fromcurrent": true,
              "mode": "immediate",
              "transition": {
               "duration": 0,
               "easing": "linear"
              }
             }
            ],
            "label": "2023-06-16 00:00:00",
            "method": "animate"
           },
           {
            "args": [
             [
              "2023-06-17 00:00:00"
             ],
             {
              "frame": {
               "duration": 0,
               "redraw": false
              },
              "fromcurrent": true,
              "mode": "immediate",
              "transition": {
               "duration": 0,
               "easing": "linear"
              }
             }
            ],
            "label": "2023-06-17 00:00:00",
            "method": "animate"
           },
           {
            "args": [
             [
              "2023-06-18 00:00:00"
             ],
             {
              "frame": {
               "duration": 0,
               "redraw": false
              },
              "fromcurrent": true,
              "mode": "immediate",
              "transition": {
               "duration": 0,
               "easing": "linear"
              }
             }
            ],
            "label": "2023-06-18 00:00:00",
            "method": "animate"
           },
           {
            "args": [
             [
              "2023-06-19 00:00:00"
             ],
             {
              "frame": {
               "duration": 0,
               "redraw": false
              },
              "fromcurrent": true,
              "mode": "immediate",
              "transition": {
               "duration": 0,
               "easing": "linear"
              }
             }
            ],
            "label": "2023-06-19 00:00:00",
            "method": "animate"
           },
           {
            "args": [
             [
              "2023-06-20 00:00:00"
             ],
             {
              "frame": {
               "duration": 0,
               "redraw": false
              },
              "fromcurrent": true,
              "mode": "immediate",
              "transition": {
               "duration": 0,
               "easing": "linear"
              }
             }
            ],
            "label": "2023-06-20 00:00:00",
            "method": "animate"
           },
           {
            "args": [
             [
              "2023-06-21 00:00:00"
             ],
             {
              "frame": {
               "duration": 0,
               "redraw": false
              },
              "fromcurrent": true,
              "mode": "immediate",
              "transition": {
               "duration": 0,
               "easing": "linear"
              }
             }
            ],
            "label": "2023-06-21 00:00:00",
            "method": "animate"
           },
           {
            "args": [
             [
              "2023-06-22 00:00:00"
             ],
             {
              "frame": {
               "duration": 0,
               "redraw": false
              },
              "fromcurrent": true,
              "mode": "immediate",
              "transition": {
               "duration": 0,
               "easing": "linear"
              }
             }
            ],
            "label": "2023-06-22 00:00:00",
            "method": "animate"
           },
           {
            "args": [
             [
              "2023-06-23 00:00:00"
             ],
             {
              "frame": {
               "duration": 0,
               "redraw": false
              },
              "fromcurrent": true,
              "mode": "immediate",
              "transition": {
               "duration": 0,
               "easing": "linear"
              }
             }
            ],
            "label": "2023-06-23 00:00:00",
            "method": "animate"
           },
           {
            "args": [
             [
              "2023-06-24 00:00:00"
             ],
             {
              "frame": {
               "duration": 0,
               "redraw": false
              },
              "fromcurrent": true,
              "mode": "immediate",
              "transition": {
               "duration": 0,
               "easing": "linear"
              }
             }
            ],
            "label": "2023-06-24 00:00:00",
            "method": "animate"
           },
           {
            "args": [
             [
              "2023-06-25 00:00:00"
             ],
             {
              "frame": {
               "duration": 0,
               "redraw": false
              },
              "fromcurrent": true,
              "mode": "immediate",
              "transition": {
               "duration": 0,
               "easing": "linear"
              }
             }
            ],
            "label": "2023-06-25 00:00:00",
            "method": "animate"
           },
           {
            "args": [
             [
              "2023-06-26 00:00:00"
             ],
             {
              "frame": {
               "duration": 0,
               "redraw": false
              },
              "fromcurrent": true,
              "mode": "immediate",
              "transition": {
               "duration": 0,
               "easing": "linear"
              }
             }
            ],
            "label": "2023-06-26 00:00:00",
            "method": "animate"
           },
           {
            "args": [
             [
              "2023-06-27 00:00:00"
             ],
             {
              "frame": {
               "duration": 0,
               "redraw": false
              },
              "fromcurrent": true,
              "mode": "immediate",
              "transition": {
               "duration": 0,
               "easing": "linear"
              }
             }
            ],
            "label": "2023-06-27 00:00:00",
            "method": "animate"
           },
           {
            "args": [
             [
              "2023-06-28 00:00:00"
             ],
             {
              "frame": {
               "duration": 0,
               "redraw": false
              },
              "fromcurrent": true,
              "mode": "immediate",
              "transition": {
               "duration": 0,
               "easing": "linear"
              }
             }
            ],
            "label": "2023-06-28 00:00:00",
            "method": "animate"
           },
           {
            "args": [
             [
              "2023-06-29 00:00:00"
             ],
             {
              "frame": {
               "duration": 0,
               "redraw": false
              },
              "fromcurrent": true,
              "mode": "immediate",
              "transition": {
               "duration": 0,
               "easing": "linear"
              }
             }
            ],
            "label": "2023-06-29 00:00:00",
            "method": "animate"
           },
           {
            "args": [
             [
              "2023-06-30 00:00:00"
             ],
             {
              "frame": {
               "duration": 0,
               "redraw": false
              },
              "fromcurrent": true,
              "mode": "immediate",
              "transition": {
               "duration": 0,
               "easing": "linear"
              }
             }
            ],
            "label": "2023-06-30 00:00:00",
            "method": "animate"
           }
          ],
          "x": 0.1,
          "xanchor": "left",
          "y": 0,
          "yanchor": "top"
         }
        ],
        "template": {
         "data": {
          "bar": [
           {
            "error_x": {
             "color": "#2a3f5f"
            },
            "error_y": {
             "color": "#2a3f5f"
            },
            "marker": {
             "line": {
              "color": "#E5ECF6",
              "width": 0.5
             },
             "pattern": {
              "fillmode": "overlay",
              "size": 10,
              "solidity": 0.2
             }
            },
            "type": "bar"
           }
          ],
          "barpolar": [
           {
            "marker": {
             "line": {
              "color": "#E5ECF6",
              "width": 0.5
             },
             "pattern": {
              "fillmode": "overlay",
              "size": 10,
              "solidity": 0.2
             }
            },
            "type": "barpolar"
           }
          ],
          "carpet": [
           {
            "aaxis": {
             "endlinecolor": "#2a3f5f",
             "gridcolor": "white",
             "linecolor": "white",
             "minorgridcolor": "white",
             "startlinecolor": "#2a3f5f"
            },
            "baxis": {
             "endlinecolor": "#2a3f5f",
             "gridcolor": "white",
             "linecolor": "white",
             "minorgridcolor": "white",
             "startlinecolor": "#2a3f5f"
            },
            "type": "carpet"
           }
          ],
          "choropleth": [
           {
            "colorbar": {
             "outlinewidth": 0,
             "ticks": ""
            },
            "type": "choropleth"
           }
          ],
          "contour": [
           {
            "colorbar": {
             "outlinewidth": 0,
             "ticks": ""
            },
            "colorscale": [
             [
              0,
              "#0d0887"
             ],
             [
              0.1111111111111111,
              "#46039f"
             ],
             [
              0.2222222222222222,
              "#7201a8"
             ],
             [
              0.3333333333333333,
              "#9c179e"
             ],
             [
              0.4444444444444444,
              "#bd3786"
             ],
             [
              0.5555555555555556,
              "#d8576b"
             ],
             [
              0.6666666666666666,
              "#ed7953"
             ],
             [
              0.7777777777777778,
              "#fb9f3a"
             ],
             [
              0.8888888888888888,
              "#fdca26"
             ],
             [
              1,
              "#f0f921"
             ]
            ],
            "type": "contour"
           }
          ],
          "contourcarpet": [
           {
            "colorbar": {
             "outlinewidth": 0,
             "ticks": ""
            },
            "type": "contourcarpet"
           }
          ],
          "heatmap": [
           {
            "colorbar": {
             "outlinewidth": 0,
             "ticks": ""
            },
            "colorscale": [
             [
              0,
              "#0d0887"
             ],
             [
              0.1111111111111111,
              "#46039f"
             ],
             [
              0.2222222222222222,
              "#7201a8"
             ],
             [
              0.3333333333333333,
              "#9c179e"
             ],
             [
              0.4444444444444444,
              "#bd3786"
             ],
             [
              0.5555555555555556,
              "#d8576b"
             ],
             [
              0.6666666666666666,
              "#ed7953"
             ],
             [
              0.7777777777777778,
              "#fb9f3a"
             ],
             [
              0.8888888888888888,
              "#fdca26"
             ],
             [
              1,
              "#f0f921"
             ]
            ],
            "type": "heatmap"
           }
          ],
          "heatmapgl": [
           {
            "colorbar": {
             "outlinewidth": 0,
             "ticks": ""
            },
            "colorscale": [
             [
              0,
              "#0d0887"
             ],
             [
              0.1111111111111111,
              "#46039f"
             ],
             [
              0.2222222222222222,
              "#7201a8"
             ],
             [
              0.3333333333333333,
              "#9c179e"
             ],
             [
              0.4444444444444444,
              "#bd3786"
             ],
             [
              0.5555555555555556,
              "#d8576b"
             ],
             [
              0.6666666666666666,
              "#ed7953"
             ],
             [
              0.7777777777777778,
              "#fb9f3a"
             ],
             [
              0.8888888888888888,
              "#fdca26"
             ],
             [
              1,
              "#f0f921"
             ]
            ],
            "type": "heatmapgl"
           }
          ],
          "histogram": [
           {
            "marker": {
             "pattern": {
              "fillmode": "overlay",
              "size": 10,
              "solidity": 0.2
             }
            },
            "type": "histogram"
           }
          ],
          "histogram2d": [
           {
            "colorbar": {
             "outlinewidth": 0,
             "ticks": ""
            },
            "colorscale": [
             [
              0,
              "#0d0887"
             ],
             [
              0.1111111111111111,
              "#46039f"
             ],
             [
              0.2222222222222222,
              "#7201a8"
             ],
             [
              0.3333333333333333,
              "#9c179e"
             ],
             [
              0.4444444444444444,
              "#bd3786"
             ],
             [
              0.5555555555555556,
              "#d8576b"
             ],
             [
              0.6666666666666666,
              "#ed7953"
             ],
             [
              0.7777777777777778,
              "#fb9f3a"
             ],
             [
              0.8888888888888888,
              "#fdca26"
             ],
             [
              1,
              "#f0f921"
             ]
            ],
            "type": "histogram2d"
           }
          ],
          "histogram2dcontour": [
           {
            "colorbar": {
             "outlinewidth": 0,
             "ticks": ""
            },
            "colorscale": [
             [
              0,
              "#0d0887"
             ],
             [
              0.1111111111111111,
              "#46039f"
             ],
             [
              0.2222222222222222,
              "#7201a8"
             ],
             [
              0.3333333333333333,
              "#9c179e"
             ],
             [
              0.4444444444444444,
              "#bd3786"
             ],
             [
              0.5555555555555556,
              "#d8576b"
             ],
             [
              0.6666666666666666,
              "#ed7953"
             ],
             [
              0.7777777777777778,
              "#fb9f3a"
             ],
             [
              0.8888888888888888,
              "#fdca26"
             ],
             [
              1,
              "#f0f921"
             ]
            ],
            "type": "histogram2dcontour"
           }
          ],
          "mesh3d": [
           {
            "colorbar": {
             "outlinewidth": 0,
             "ticks": ""
            },
            "type": "mesh3d"
           }
          ],
          "parcoords": [
           {
            "line": {
             "colorbar": {
              "outlinewidth": 0,
              "ticks": ""
             }
            },
            "type": "parcoords"
           }
          ],
          "pie": [
           {
            "automargin": true,
            "type": "pie"
           }
          ],
          "scatter": [
           {
            "fillpattern": {
             "fillmode": "overlay",
             "size": 10,
             "solidity": 0.2
            },
            "type": "scatter"
           }
          ],
          "scatter3d": [
           {
            "line": {
             "colorbar": {
              "outlinewidth": 0,
              "ticks": ""
             }
            },
            "marker": {
             "colorbar": {
              "outlinewidth": 0,
              "ticks": ""
             }
            },
            "type": "scatter3d"
           }
          ],
          "scattercarpet": [
           {
            "marker": {
             "colorbar": {
              "outlinewidth": 0,
              "ticks": ""
             }
            },
            "type": "scattercarpet"
           }
          ],
          "scattergeo": [
           {
            "marker": {
             "colorbar": {
              "outlinewidth": 0,
              "ticks": ""
             }
            },
            "type": "scattergeo"
           }
          ],
          "scattergl": [
           {
            "marker": {
             "colorbar": {
              "outlinewidth": 0,
              "ticks": ""
             }
            },
            "type": "scattergl"
           }
          ],
          "scattermapbox": [
           {
            "marker": {
             "colorbar": {
              "outlinewidth": 0,
              "ticks": ""
             }
            },
            "type": "scattermapbox"
           }
          ],
          "scatterpolar": [
           {
            "marker": {
             "colorbar": {
              "outlinewidth": 0,
              "ticks": ""
             }
            },
            "type": "scatterpolar"
           }
          ],
          "scatterpolargl": [
           {
            "marker": {
             "colorbar": {
              "outlinewidth": 0,
              "ticks": ""
             }
            },
            "type": "scatterpolargl"
           }
          ],
          "scatterternary": [
           {
            "marker": {
             "colorbar": {
              "outlinewidth": 0,
              "ticks": ""
             }
            },
            "type": "scatterternary"
           }
          ],
          "surface": [
           {
            "colorbar": {
             "outlinewidth": 0,
             "ticks": ""
            },
            "colorscale": [
             [
              0,
              "#0d0887"
             ],
             [
              0.1111111111111111,
              "#46039f"
             ],
             [
              0.2222222222222222,
              "#7201a8"
             ],
             [
              0.3333333333333333,
              "#9c179e"
             ],
             [
              0.4444444444444444,
              "#bd3786"
             ],
             [
              0.5555555555555556,
              "#d8576b"
             ],
             [
              0.6666666666666666,
              "#ed7953"
             ],
             [
              0.7777777777777778,
              "#fb9f3a"
             ],
             [
              0.8888888888888888,
              "#fdca26"
             ],
             [
              1,
              "#f0f921"
             ]
            ],
            "type": "surface"
           }
          ],
          "table": [
           {
            "cells": {
             "fill": {
              "color": "#EBF0F8"
             },
             "line": {
              "color": "white"
             }
            },
            "header": {
             "fill": {
              "color": "#C8D4E3"
             },
             "line": {
              "color": "white"
             }
            },
            "type": "table"
           }
          ]
         },
         "layout": {
          "annotationdefaults": {
           "arrowcolor": "#2a3f5f",
           "arrowhead": 0,
           "arrowwidth": 1
          },
          "autotypenumbers": "strict",
          "coloraxis": {
           "colorbar": {
            "outlinewidth": 0,
            "ticks": ""
           }
          },
          "colorscale": {
           "diverging": [
            [
             0,
             "#8e0152"
            ],
            [
             0.1,
             "#c51b7d"
            ],
            [
             0.2,
             "#de77ae"
            ],
            [
             0.3,
             "#f1b6da"
            ],
            [
             0.4,
             "#fde0ef"
            ],
            [
             0.5,
             "#f7f7f7"
            ],
            [
             0.6,
             "#e6f5d0"
            ],
            [
             0.7,
             "#b8e186"
            ],
            [
             0.8,
             "#7fbc41"
            ],
            [
             0.9,
             "#4d9221"
            ],
            [
             1,
             "#276419"
            ]
           ],
           "sequential": [
            [
             0,
             "#0d0887"
            ],
            [
             0.1111111111111111,
             "#46039f"
            ],
            [
             0.2222222222222222,
             "#7201a8"
            ],
            [
             0.3333333333333333,
             "#9c179e"
            ],
            [
             0.4444444444444444,
             "#bd3786"
            ],
            [
             0.5555555555555556,
             "#d8576b"
            ],
            [
             0.6666666666666666,
             "#ed7953"
            ],
            [
             0.7777777777777778,
             "#fb9f3a"
            ],
            [
             0.8888888888888888,
             "#fdca26"
            ],
            [
             1,
             "#f0f921"
            ]
           ],
           "sequentialminus": [
            [
             0,
             "#0d0887"
            ],
            [
             0.1111111111111111,
             "#46039f"
            ],
            [
             0.2222222222222222,
             "#7201a8"
            ],
            [
             0.3333333333333333,
             "#9c179e"
            ],
            [
             0.4444444444444444,
             "#bd3786"
            ],
            [
             0.5555555555555556,
             "#d8576b"
            ],
            [
             0.6666666666666666,
             "#ed7953"
            ],
            [
             0.7777777777777778,
             "#fb9f3a"
            ],
            [
             0.8888888888888888,
             "#fdca26"
            ],
            [
             1,
             "#f0f921"
            ]
           ]
          },
          "colorway": [
           "#636efa",
           "#EF553B",
           "#00cc96",
           "#ab63fa",
           "#FFA15A",
           "#19d3f3",
           "#FF6692",
           "#B6E880",
           "#FF97FF",
           "#FECB52"
          ],
          "font": {
           "color": "#2a3f5f"
          },
          "geo": {
           "bgcolor": "white",
           "lakecolor": "white",
           "landcolor": "#E5ECF6",
           "showlakes": true,
           "showland": true,
           "subunitcolor": "white"
          },
          "hoverlabel": {
           "align": "left"
          },
          "hovermode": "closest",
          "mapbox": {
           "style": "light"
          },
          "paper_bgcolor": "white",
          "plot_bgcolor": "#E5ECF6",
          "polar": {
           "angularaxis": {
            "gridcolor": "white",
            "linecolor": "white",
            "ticks": ""
           },
           "bgcolor": "#E5ECF6",
           "radialaxis": {
            "gridcolor": "white",
            "linecolor": "white",
            "ticks": ""
           }
          },
          "scene": {
           "xaxis": {
            "backgroundcolor": "#E5ECF6",
            "gridcolor": "white",
            "gridwidth": 2,
            "linecolor": "white",
            "showbackground": true,
            "ticks": "",
            "zerolinecolor": "white"
           },
           "yaxis": {
            "backgroundcolor": "#E5ECF6",
            "gridcolor": "white",
            "gridwidth": 2,
            "linecolor": "white",
            "showbackground": true,
            "ticks": "",
            "zerolinecolor": "white"
           },
           "zaxis": {
            "backgroundcolor": "#E5ECF6",
            "gridcolor": "white",
            "gridwidth": 2,
            "linecolor": "white",
            "showbackground": true,
            "ticks": "",
            "zerolinecolor": "white"
           }
          },
          "shapedefaults": {
           "line": {
            "color": "#2a3f5f"
           }
          },
          "ternary": {
           "aaxis": {
            "gridcolor": "white",
            "linecolor": "white",
            "ticks": ""
           },
           "baxis": {
            "gridcolor": "white",
            "linecolor": "white",
            "ticks": ""
           },
           "bgcolor": "#E5ECF6",
           "caxis": {
            "gridcolor": "white",
            "linecolor": "white",
            "ticks": ""
           }
          },
          "title": {
           "x": 0.05
          },
          "xaxis": {
           "automargin": true,
           "gridcolor": "white",
           "linecolor": "white",
           "ticks": "",
           "title": {
            "standoff": 15
           },
           "zerolinecolor": "white",
           "zerolinewidth": 2
          },
          "yaxis": {
           "automargin": true,
           "gridcolor": "white",
           "linecolor": "white",
           "ticks": "",
           "title": {
            "standoff": 15
           },
           "zerolinecolor": "white",
           "zerolinewidth": 2
          }
         }
        },
        "title": {
         "text": "Demand and solar output in Jun"
        },
        "updatemenus": [
         {
          "buttons": [
           {
            "args": [
             null,
             {
              "frame": {
               "duration": 500,
               "redraw": false
              },
              "fromcurrent": true,
              "mode": "immediate",
              "transition": {
               "duration": 500,
               "easing": "linear"
              }
             }
            ],
            "label": "&#9654;",
            "method": "animate"
           },
           {
            "args": [
             [
              null
             ],
             {
              "frame": {
               "duration": 0,
               "redraw": false
              },
              "fromcurrent": true,
              "mode": "immediate",
              "transition": {
               "duration": 0,
               "easing": "linear"
              }
             }
            ],
            "label": "&#9724;",
            "method": "animate"
           }
          ],
          "direction": "left",
          "pad": {
           "r": 10,
           "t": 70
          },
          "showactive": false,
          "type": "buttons",
          "x": 0.1,
          "xanchor": "right",
          "y": 0,
          "yanchor": "top"
         }
        ],
        "xaxis": {
         "anchor": "y",
         "autorange": true,
         "domain": [
          0,
          1
         ],
         "range": [
          4.320480347394864,
          4.552504069108322
         ],
         "title": {
          "text": "Electricity demand"
         },
         "type": "log"
        },
        "yaxis": {
         "anchor": "x",
         "domain": [
          0,
          1
         ],
         "range": [
          0,
          15100
         ],
         "title": {
          "text": "Solar output"
         },
         "type": "linear"
        }
       }
      },
      "image/png": "[encoded data removed]",
      "text/html": [
       "<div>                            <div id=\"7f210043-6bd9-4e2c-a9dc-c9dbe2199c00\" class=\"plotly-graph-div\" style=\"height:600px; width:100%;\"></div>            <script type=\"text/javascript\">                require([\"plotly\"], function(Plotly) {                    window.PLOTLYENV=window.PLOTLYENV || {};                                    if (document.getElementById(\"7f210043-6bd9-4e2c-a9dc-c9dbe2199c00\")) {                    Plotly.newPlot(                        \"7f210043-6bd9-4e2c-a9dc-c9dbe2199c00\",                        [{\"hovertemplate\":\"\\u003cb\\u003e%{hovertext}\\u003c\\u002fb\\u003e\\u003cbr\\u003e\\u003cbr\\u003edate=2023-06-01 00:00:00\\u003cbr\\u003eElectricity demand=%{x}\\u003cbr\\u003eSolar output=%{marker.size}\\u003cbr\\u003eprice=%{marker.color}\\u003cextra\\u003e\\u003c\\u002fextra\\u003e\",\"hovertext\":[9.16,8.97,8.96,9.18,10.0,9.26,8.8,8.42,9.42,10.05,9.51,10.1,10.0,10.05,11.6,9.36,10.11,10.56,11.64,11.58,10.14,10.11,10.6,10.55],\"legendgroup\":\"\",\"marker\":{\"color\":[9.16,8.97,8.96,9.18,10.0,9.26,8.8,8.42,9.42,10.05,9.51,10.1,10.0,10.05,11.6,9.36,10.11,10.56,11.64,11.58,10.14,10.11,10.6,10.55],\"coloraxis\":\"coloraxis\",\"size\":[0,0,0,0,10,940,3510,6750,9920,12250,12230,11030,9590,8760,7480,6040,3800,1360,150,0,0,0,0,0],\"sizemode\":\"area\",\"sizeref\":1.506,\"symbol\":\"circle\"},\"mode\":\"markers\",\"name\":\"\",\"orientation\":\"v\",\"showlegend\":false,\"x\":[22750,21620,21520,21920,22130,22130,23150,25380,28760,32270,33270,33400,31790,32780,32600,32310,32640,31400,31370,31030,29680,28080,26870,25600],\"xaxis\":\"x\",\"y\":[0,0,0,0,10,940,3510,6750,9920,12250,12230,11030,9590,8760,7480,6040,3800,1360,150,0,0,0,0,0],\"yaxis\":\"y\",\"type\":\"scatter\"}],                        {\"template\":{\"data\":{\"histogram2dcontour\":[{\"type\":\"histogram2dcontour\",\"colorbar\":{\"outlinewidth\":0,\"ticks\":\"\"},\"colorscale\":[[0.0,\"#0d0887\"],[0.1111111111111111,\"#46039f\"],[0.2222222222222222,\"#7201a8\"],[0.3333333333333333,\"#9c179e\"],[0.4444444444444444,\"#bd3786\"],[0.5555555555555556,\"#d8576b\"],[0.6666666666666666,\"#ed7953\"],[0.7777777777777778,\"#fb9f3a\"],[0.8888888888888888,\"#fdca26\"],[1.0,\"#f0f921\"]]}],\"choropleth\":[{\"type\":\"choropleth\",\"colorbar\":{\"outlinewidth\":0,\"ticks\":\"\"}}],\"histogram2d\":[{\"type\":\"histogram2d\",\"colorbar\":{\"outlinewidth\":0,\"ticks\":\"\"},\"colorscale\":[[0.0,\"#0d0887\"],[0.1111111111111111,\"#46039f\"],[0.2222222222222222,\"#7201a8\"],[0.3333333333333333,\"#9c179e\"],[0.4444444444444444,\"#bd3786\"],[0.5555555555555556,\"#d8576b\"],[0.6666666666666666,\"#ed7953\"],[0.7777777777777778,\"#fb9f3a\"],[0.8888888888888888,\"#fdca26\"],[1.0,\"#f0f921\"]]}],\"heatmap\":[{\"type\":\"heatmap\",\"colorbar\":{\"outlinewidth\":0,\"ticks\":\"\"},\"colorscale\":[[0.0,\"#0d0887\"],[0.1111111111111111,\"#46039f\"],[0.2222222222222222,\"#7201a8\"],[0.3333333333333333,\"#9c179e\"],[0.4444444444444444,\"#bd3786\"],[0.5555555555555556,\"#d8576b\"],[0.6666666666666666,\"#ed7953\"],[0.7777777777777778,\"#fb9f3a\"],[0.8888888888888888,\"#fdca26\"],[1.0,\"#f0f921\"]]}],\"heatmapgl\":[{\"type\":\"heatmapgl\",\"colorbar\":{\"outlinewidth\":0,\"ticks\":\"\"},\"colorscale\":[[0.0,\"#0d0887\"],[0.1111111111111111,\"#46039f\"],[0.2222222222222222,\"#7201a8\"],[0.3333333333333333,\"#9c179e\"],[0.4444444444444444,\"#bd3786\"],[0.5555555555555556,\"#d8576b\"],[0.6666666666666666,\"#ed7953\"],[0.7777777777777778,\"#fb9f3a\"],[0.8888888888888888,\"#fdca26\"],[1.0,\"#f0f921\"]]}],\"contourcarpet\":[{\"type\":\"contourcarpet\",\"colorbar\":{\"outlinewidth\":0,\"ticks\":\"\"}}],\"contour\":[{\"type\":\"contour\",\"colorbar\":{\"outlinewidth\":0,\"ticks\":\"\"},\"colorscale\":[[0.0,\"#0d0887\"],[0.1111111111111111,\"#46039f\"],[0.2222222222222222,\"#7201a8\"],[0.3333333333333333,\"#9c179e\"],[0.4444444444444444,\"#bd3786\"],[0.5555555555555556,\"#d8576b\"],[0.6666666666666666,\"#ed7953\"],[0.7777777777777778,\"#fb9f3a\"],[0.8888888888888888,\"#fdca26\"],[1.0,\"#f0f921\"]]}],\"surface\":[{\"type\":\"surface\",\"colorbar\":{\"outlinewidth\":0,\"ticks\":\"\"},\"colorscale\":[[0.0,\"#0d0887\"],[0.1111111111111111,\"#46039f\"],[0.2222222222222222,\"#7201a8\"],[0.3333333333333333,\"#9c179e\"],[0.4444444444444444,\"#bd3786\"],[0.5555555555555556,\"#d8576b\"],[0.6666666666666666,\"#ed7953\"],[0.7777777777777778,\"#fb9f3a\"],[0.8888888888888888,\"#fdca26\"],[1.0,\"#f0f921\"]]}],\"mesh3d\":[{\"type\":\"mesh3d\",\"colorbar\":{\"outlinewidth\":0,\"ticks\":\"\"}}],\"scatter\":[{\"fillpattern\":{\"fillmode\":\"overlay\",\"size\":10,\"solidity\":0.2},\"type\":\"scatter\"}],\"parcoords\":[{\"type\":\"parcoords\",\"line\":{\"colorbar\":{\"outlinewidth\":0,\"ticks\":\"\"}}}],\"scatterpolargl\":[{\"type\":\"scatterpolargl\",\"marker\":{\"colorbar\":{\"outlinewidth\":0,\"ticks\":\"\"}}}],\"bar\":[{\"error_x\":{\"color\":\"#2a3f5f\"},\"error_y\":{\"color\":\"#2a3f5f\"},\"marker\":{\"line\":{\"color\":\"#E5ECF6\",\"width\":0.5},\"pattern\":{\"fillmode\":\"overlay\",\"size\":10,\"solidity\":0.2}},\"type\":\"bar\"}],\"scattergeo\":[{\"type\":\"scattergeo\",\"marker\":{\"colorbar\":{\"outlinewidth\":0,\"ticks\":\"\"}}}],\"scatterpolar\":[{\"type\":\"scatterpolar\",\"marker\":{\"colorbar\":{\"outlinewidth\":0,\"ticks\":\"\"}}}],\"histogram\":[{\"marker\":{\"pattern\":{\"fillmode\":\"overlay\",\"size\":10,\"solidity\":0.2}},\"type\":\"histogram\"}],\"scattergl\":[{\"type\":\"scattergl\",\"marker\":{\"colorbar\":{\"outlinewidth\":0,\"ticks\":\"\"}}}],\"scatter3d\":[{\"type\":\"scatter3d\",\"line\":{\"colorbar\":{\"outlinewidth\":0,\"ticks\":\"\"}},\"marker\":{\"colorbar\":{\"outlinewidth\":0,\"ticks\":\"\"}}}],\"scattermapbox\":[{\"type\":\"scattermapbox\",\"marker\":{\"colorbar\":{\"outlinewidth\":0,\"ticks\":\"\"}}}],\"scatterternary\":[{\"type\":\"scatterternary\",\"marker\":{\"colorbar\":{\"outlinewidth\":0,\"ticks\":\"\"}}}],\"scattercarpet\":[{\"type\":\"scattercarpet\",\"marker\":{\"colorbar\":{\"outlinewidth\":0,\"ticks\":\"\"}}}],\"carpet\":[{\"aaxis\":{\"endlinecolor\":\"#2a3f5f\",\"gridcolor\":\"white\",\"linecolor\":\"white\",\"minorgridcolor\":\"white\",\"startlinecolor\":\"#2a3f5f\"},\"baxis\":{\"endlinecolor\":\"#2a3f5f\",\"gridcolor\":\"white\",\"linecolor\":\"white\",\"minorgridcolor\":\"white\",\"startlinecolor\":\"#2a3f5f\"},\"type\":\"carpet\"}],\"table\":[{\"cells\":{\"fill\":{\"color\":\"#EBF0F8\"},\"line\":{\"color\":\"white\"}},\"header\":{\"fill\":{\"color\":\"#C8D4E3\"},\"line\":{\"color\":\"white\"}},\"type\":\"table\"}],\"barpolar\":[{\"marker\":{\"line\":{\"color\":\"#E5ECF6\",\"width\":0.5},\"pattern\":{\"fillmode\":\"overlay\",\"size\":10,\"solidity\":0.2}},\"type\":\"barpolar\"}],\"pie\":[{\"automargin\":true,\"type\":\"pie\"}]},\"layout\":{\"autotypenumbers\":\"strict\",\"colorway\":[\"#636efa\",\"#EF553B\",\"#00cc96\",\"#ab63fa\",\"#FFA15A\",\"#19d3f3\",\"#FF6692\",\"#B6E880\",\"#FF97FF\",\"#FECB52\"],\"font\":{\"color\":\"#2a3f5f\"},\"hovermode\":\"closest\",\"hoverlabel\":{\"align\":\"left\"},\"paper_bgcolor\":\"white\",\"plot_bgcolor\":\"#E5ECF6\",\"polar\":{\"bgcolor\":\"#E5ECF6\",\"angularaxis\":{\"gridcolor\":\"white\",\"linecolor\":\"white\",\"ticks\":\"\"},\"radialaxis\":{\"gridcolor\":\"white\",\"linecolor\":\"white\",\"ticks\":\"\"}},\"ternary\":{\"bgcolor\":\"#E5ECF6\",\"aaxis\":{\"gridcolor\":\"white\",\"linecolor\":\"white\",\"ticks\":\"\"},\"baxis\":{\"gridcolor\":\"white\",\"linecolor\":\"white\",\"ticks\":\"\"},\"caxis\":{\"gridcolor\":\"white\",\"linecolor\":\"white\",\"ticks\":\"\"}},\"coloraxis\":{\"colorbar\":{\"outlinewidth\":0,\"ticks\":\"\"}},\"colorscale\":{\"sequential\":[[0.0,\"#0d0887\"],[0.1111111111111111,\"#46039f\"],[0.2222222222222222,\"#7201a8\"],[0.3333333333333333,\"#9c179e\"],[0.4444444444444444,\"#bd3786\"],[0.5555555555555556,\"#d8576b\"],[0.6666666666666666,\"#ed7953\"],[0.7777777777777778,\"#fb9f3a\"],[0.8888888888888888,\"#fdca26\"],[1.0,\"#f0f921\"]],\"sequentialminus\":[[0.0,\"#0d0887\"],[0.1111111111111111,\"#46039f\"],[0.2222222222222222,\"#7201a8\"],[0.3333333333333333,\"#9c179e\"],[0.4444444444444444,\"#bd3786\"],[0.5555555555555556,\"#d8576b\"],[0.6666666666666666,\"#ed7953\"],[0.7777777777777778,\"#fb9f3a\"],[0.8888888888888888,\"#fdca26\"],[1.0,\"#f0f921\"]],\"diverging\":[[0,\"#8e0152\"],[0.1,\"#c51b7d\"],[0.2,\"#de77ae\"],[0.3,\"#f1b6da\"],[0.4,\"#fde0ef\"],[0.5,\"#f7f7f7\"],[0.6,\"#e6f5d0\"],[0.7,\"#b8e186\"],[0.8,\"#7fbc41\"],[0.9,\"#4d9221\"],[1,\"#276419\"]]},\"xaxis\":{\"gridcolor\":\"white\",\"linecolor\":\"white\",\"ticks\":\"\",\"title\":{\"standoff\":15},\"zerolinecolor\":\"white\",\"automargin\":true,\"zerolinewidth\":2},\"yaxis\":{\"gridcolor\":\"white\",\"linecolor\":\"white\",\"ticks\":\"\",\"title\":{\"standoff\":15},\"zerolinecolor\":\"white\",\"automargin\":true,\"zerolinewidth\":2},\"scene\":{\"xaxis\":{\"backgroundcolor\":\"#E5ECF6\",\"gridcolor\":\"white\",\"linecolor\":\"white\",\"showbackground\":true,\"ticks\":\"\",\"zerolinecolor\":\"white\",\"gridwidth\":2},\"yaxis\":{\"backgroundcolor\":\"#E5ECF6\",\"gridcolor\":\"white\",\"linecolor\":\"white\",\"showbackground\":true,\"ticks\":\"\",\"zerolinecolor\":\"white\",\"gridwidth\":2},\"zaxis\":{\"backgroundcolor\":\"#E5ECF6\",\"gridcolor\":\"white\",\"linecolor\":\"white\",\"showbackground\":true,\"ticks\":\"\",\"zerolinecolor\":\"white\",\"gridwidth\":2}},\"shapedefaults\":{\"line\":{\"color\":\"#2a3f5f\"}},\"annotationdefaults\":{\"arrowcolor\":\"#2a3f5f\",\"arrowhead\":0,\"arrowwidth\":1},\"geo\":{\"bgcolor\":\"white\",\"landcolor\":\"#E5ECF6\",\"subunitcolor\":\"white\",\"showland\":true,\"showlakes\":true,\"lakecolor\":\"white\"},\"title\":{\"x\":0.05},\"mapbox\":{\"style\":\"light\"}}},\"xaxis\":{\"anchor\":\"y\",\"domain\":[0.0,1.0],\"title\":{\"text\":\"Electricity demand\"},\"type\":\"log\"},\"yaxis\":{\"anchor\":\"x\",\"domain\":[0.0,1.0],\"title\":{\"text\":\"Solar output\"},\"range\":[0,15100]},\"coloraxis\":{\"colorbar\":{\"title\":{\"text\":\"price\"}},\"colorscale\":[[0.0,\"#0d0887\"],[0.1111111111111111,\"#46039f\"],[0.2222222222222222,\"#7201a8\"],[0.3333333333333333,\"#9c179e\"],[0.4444444444444444,\"#bd3786\"],[0.5555555555555556,\"#d8576b\"],[0.6666666666666666,\"#ed7953\"],[0.7777777777777778,\"#fb9f3a\"],[0.8888888888888888,\"#fdca26\"],[1.0,\"#f0f921\"]]},\"legend\":{\"tracegroupgap\":0,\"itemsizing\":\"constant\"},\"title\":{\"text\":\"Demand and solar output in Jun\"},\"height\":600,\"updatemenus\":[{\"buttons\":[{\"args\":[null,{\"frame\":{\"duration\":500,\"redraw\":false},\"mode\":\"immediate\",\"fromcurrent\":true,\"transition\":{\"duration\":500,\"easing\":\"linear\"}}],\"label\":\"&#9654;\",\"method\":\"animate\"},{\"args\":[[null],{\"frame\":{\"duration\":0,\"redraw\":false},\"mode\":\"immediate\",\"fromcurrent\":true,\"transition\":{\"duration\":0,\"easing\":\"linear\"}}],\"label\":\"&#9724;\",\"method\":\"animate\"}],\"direction\":\"left\",\"pad\":{\"r\":10,\"t\":70},\"showactive\":false,\"type\":\"buttons\",\"x\":0.1,\"xanchor\":\"right\",\"y\":0,\"yanchor\":\"top\"}],\"sliders\":[{\"active\":0,\"currentvalue\":{\"prefix\":\"date=\"},\"len\":0.9,\"pad\":{\"b\":10,\"t\":60},\"steps\":[{\"args\":[[\"2023-06-01 00:00:00\"],{\"frame\":{\"duration\":0,\"redraw\":false},\"mode\":\"immediate\",\"fromcurrent\":true,\"transition\":{\"duration\":0,\"easing\":\"linear\"}}],\"label\":\"2023-06-01 00:00:00\",\"method\":\"animate\"},{\"args\":[[\"2023-06-02 00:00:00\"],{\"frame\":{\"duration\":0,\"redraw\":false},\"mode\":\"immediate\",\"fromcurrent\":true,\"transition\":{\"duration\":0,\"easing\":\"linear\"}}],\"label\":\"2023-06-02 00:00:00\",\"method\":\"animate\"},{\"args\":[[\"2023-06-03 00:00:00\"],{\"frame\":{\"duration\":0,\"redraw\":false},\"mode\":\"immediate\",\"fromcurrent\":true,\"transition\":{\"duration\":0,\"easing\":\"linear\"}}],\"label\":\"2023-06-03 00:00:00\",\"method\":\"animate\"},{\"args\":[[\"2023-06-04 00:00:00\"],{\"frame\":{\"duration\":0,\"redraw\":false},\"mode\":\"immediate\",\"fromcurrent\":true,\"transition\":{\"duration\":0,\"easing\":\"linear\"}}],\"label\":\"2023-06-04 00:00:00\",\"method\":\"animate\"},{\"args\":[[\"2023-06-05 00:00:00\"],{\"frame\":{\"duration\":0,\"redraw\":false},\"mode\":\"immediate\",\"fromcurrent\":true,\"transition\":{\"duration\":0,\"easing\":\"linear\"}}],\"label\":\"2023-06-05 00:00:00\",\"method\":\"animate\"},{\"args\":[[\"2023-06-06 00:00:00\"],{\"frame\":{\"duration\":0,\"redraw\":false},\"mode\":\"immediate\",\"fromcurrent\":true,\"transition\":{\"duration\":0,\"easing\":\"linear\"}}],\"label\":\"2023-06-06 00:00:00\",\"method\":\"animate\"},{\"args\":[[\"2023-06-07 00:00:00\"],{\"frame\":{\"duration\":0,\"redraw\":false},\"mode\":\"immediate\",\"fromcurrent\":true,\"transition\":{\"duration\":0,\"easing\":\"linear\"}}],\"label\":\"2023-06-07 00:00:00\",\"method\":\"animate\"},{\"args\":[[\"2023-06-08 00:00:00\"],{\"frame\":{\"duration\":0,\"redraw\":false},\"mode\":\"immediate\",\"fromcurrent\":true,\"transition\":{\"duration\":0,\"easing\":\"linear\"}}],\"label\":\"2023-06-08 00:00:00\",\"method\":\"animate\"},{\"args\":[[\"2023-06-09 00:00:00\"],{\"frame\":{\"duration\":0,\"redraw\":false},\"mode\":\"immediate\",\"fromcurrent\":true,\"transition\":{\"duration\":0,\"easing\":\"linear\"}}],\"label\":\"2023-06-09 00:00:00\",\"method\":\"animate\"},{\"args\":[[\"2023-06-10 00:00:00\"],{\"frame\":{\"duration\":0,\"redraw\":false},\"mode\":\"immediate\",\"fromcurrent\":true,\"transition\":{\"duration\":0,\"easing\":\"linear\"}}],\"label\":\"2023-06-10 00:00:00\",\"method\":\"animate\"},{\"args\":[[\"2023-06-11 00:00:00\"],{\"frame\":{\"duration\":0,\"redraw\":false},\"mode\":\"immediate\",\"fromcurrent\":true,\"transition\":{\"duration\":0,\"easing\":\"linear\"}}],\"label\":\"2023-06-11 00:00:00\",\"method\":\"animate\"},{\"args\":[[\"2023-06-12 00:00:00\"],{\"frame\":{\"duration\":0,\"redraw\":false},\"mode\":\"immediate\",\"fromcurrent\":true,\"transition\":{\"duration\":0,\"easing\":\"linear\"}}],\"label\":\"2023-06-12 00:00:00\",\"method\":\"animate\"},{\"args\":[[\"2023-06-13 00:00:00\"],{\"frame\":{\"duration\":0,\"redraw\":false},\"mode\":\"immediate\",\"fromcurrent\":true,\"transition\":{\"duration\":0,\"easing\":\"linear\"}}],\"label\":\"2023-06-13 00:00:00\",\"method\":\"animate\"},{\"args\":[[\"2023-06-14 00:00:00\"],{\"frame\":{\"duration\":0,\"redraw\":false},\"mode\":\"immediate\",\"fromcurrent\":true,\"transition\":{\"duration\":0,\"easing\":\"linear\"}}],\"label\":\"2023-06-14 00:00:00\",\"method\":\"animate\"},{\"args\":[[\"2023-06-15 00:00:00\"],{\"frame\":{\"duration\":0,\"redraw\":false},\"mode\":\"immediate\",\"fromcurrent\":true,\"transition\":{\"duration\":0,\"easing\":\"linear\"}}],\"label\":\"2023-06-15 00:00:00\",\"method\":\"animate\"},{\"args\":[[\"2023-06-16 00:00:00\"],{\"frame\":{\"duration\":0,\"redraw\":false},\"mode\":\"immediate\",\"fromcurrent\":true,\"transition\":{\"duration\":0,\"easing\":\"linear\"}}],\"label\":\"2023-06-16 00:00:00\",\"method\":\"animate\"},{\"args\":[[\"2023-06-17 00:00:00\"],{\"frame\":{\"duration\":0,\"redraw\":false},\"mode\":\"immediate\",\"fromcurrent\":true,\"transition\":{\"duration\":0,\"easing\":\"linear\"}}],\"label\":\"2023-06-17 00:00:00\",\"method\":\"animate\"},{\"args\":[[\"2023-06-18 00:00:00\"],{\"frame\":{\"duration\":0,\"redraw\":false},\"mode\":\"immediate\",\"fromcurrent\":true,\"transition\":{\"duration\":0,\"easing\":\"linear\"}}],\"label\":\"2023-06-18 00:00:00\",\"method\":\"animate\"},{\"args\":[[\"2023-06-19 00:00:00\"],{\"frame\":{\"duration\":0,\"redraw\":false},\"mode\":\"immediate\",\"fromcurrent\":true,\"transition\":{\"duration\":0,\"easing\":\"linear\"}}],\"label\":\"2023-06-19 00:00:00\",\"method\":\"animate\"},{\"args\":[[\"2023-06-20 00:00:00\"],{\"frame\":{\"duration\":0,\"redraw\":false},\"mode\":\"immediate\",\"fromcurrent\":true,\"transition\":{\"duration\":0,\"easing\":\"linear\"}}],\"label\":\"2023-06-20 00:00:00\",\"method\":\"animate\"},{\"args\":[[\"2023-06-21 00:00:00\"],{\"frame\":{\"duration\":0,\"redraw\":false},\"mode\":\"immediate\",\"fromcurrent\":true,\"transition\":{\"duration\":0,\"easing\":\"linear\"}}],\"label\":\"2023-06-21 00:00:00\",\"method\":\"animate\"},{\"args\":[[\"2023-06-22 00:00:00\"],{\"frame\":{\"duration\":0,\"redraw\":false},\"mode\":\"immediate\",\"fromcurrent\":true,\"transition\":{\"duration\":0,\"easing\":\"linear\"}}],\"label\":\"2023-06-22 00:00:00\",\"method\":\"animate\"},{\"args\":[[\"2023-06-23 00:00:00\"],{\"frame\":{\"duration\":0,\"redraw\":false},\"mode\":\"immediate\",\"fromcurrent\":true,\"transition\":{\"duration\":0,\"easing\":\"linear\"}}],\"label\":\"2023-06-23 00:00:00\",\"method\":\"animate\"},{\"args\":[[\"2023-06-24 00:00:00\"],{\"frame\":{\"duration\":0,\"redraw\":false},\"mode\":\"immediate\",\"fromcurrent\":true,\"transition\":{\"duration\":0,\"easing\":\"linear\"}}],\"label\":\"2023-06-24 00:00:00\",\"method\":\"animate\"},{\"args\":[[\"2023-06-25 00:00:00\"],{\"frame\":{\"duration\":0,\"redraw\":false},\"mode\":\"immediate\",\"fromcurrent\":true,\"transition\":{\"duration\":0,\"easing\":\"linear\"}}],\"label\":\"2023-06-25 00:00:00\",\"method\":\"animate\"},{\"args\":[[\"2023-06-26 00:00:00\"],{\"frame\":{\"duration\":0,\"redraw\":false},\"mode\":\"immediate\",\"fromcurrent\":true,\"transition\":{\"duration\":0,\"easing\":\"linear\"}}],\"label\":\"2023-06-26 00:00:00\",\"method\":\"animate\"},{\"args\":[[\"2023-06-27 00:00:00\"],{\"frame\":{\"duration\":0,\"redraw\":false},\"mode\":\"immediate\",\"fromcurrent\":true,\"transition\":{\"duration\":0,\"easing\":\"linear\"}}],\"label\":\"2023-06-27 00:00:00\",\"method\":\"animate\"},{\"args\":[[\"2023-06-28 00:00:00\"],{\"frame\":{\"duration\":0,\"redraw\":false},\"mode\":\"immediate\",\"fromcurrent\":true,\"transition\":{\"duration\":0,\"easing\":\"linear\"}}],\"label\":\"2023-06-28 00:00:00\",\"method\":\"animate\"},{\"args\":[[\"2023-06-29 00:00:00\"],{\"frame\":{\"duration\":0,\"redraw\":false},\"mode\":\"immediate\",\"fromcurrent\":true,\"transition\":{\"duration\":0,\"easing\":\"linear\"}}],\"label\":\"2023-06-29 00:00:00\",\"method\":\"animate\"},{\"args\":[[\"2023-06-30 00:00:00\"],{\"frame\":{\"duration\":0,\"redraw\":false},\"mode\":\"immediate\",\"fromcurrent\":true,\"transition\":{\"duration\":0,\"easing\":\"linear\"}}],\"label\":\"2023-06-30 00:00:00\",\"method\":\"animate\"}],\"x\":0.1,\"xanchor\":\"left\",\"y\":0,\"yanchor\":\"top\"}]},                        {\"responsive\": true}                    ).then(function(){\n",
       "                            Plotly.addFrames('7f210043-6bd9-4e2c-a9dc-c9dbe2199c00', [{\"data\":[{\"hovertemplate\":\"\\u003cb\\u003e%{hovertext}\\u003c\\u002fb\\u003e\\u003cbr\\u003e\\u003cbr\\u003edate=2023-06-01 00:00:00\\u003cbr\\u003eElectricity demand=%{x}\\u003cbr\\u003eSolar output=%{marker.size}\\u003cbr\\u003eprice=%{marker.color}\\u003cextra\\u003e\\u003c\\u002fextra\\u003e\",\"hovertext\":[9.16,8.97,8.96,9.18,10.0,9.26,8.8,8.42,9.42,10.05,9.51,10.1,10.0,10.05,11.6,9.36,10.11,10.56,11.64,11.58,10.14,10.11,10.6,10.55],\"legendgroup\":\"\",\"marker\":{\"color\":[9.16,8.97,8.96,9.18,10.0,9.26,8.8,8.42,9.42,10.05,9.51,10.1,10.0,10.05,11.6,9.36,10.11,10.56,11.64,11.58,10.14,10.11,10.6,10.55],\"coloraxis\":\"coloraxis\",\"size\":[0,0,0,0,10,940,3510,6750,9920,12250,12230,11030,9590,8760,7480,6040,3800,1360,150,0,0,0,0,0],\"sizemode\":\"area\",\"sizeref\":1.506,\"symbol\":\"circle\"},\"mode\":\"markers\",\"name\":\"\",\"orientation\":\"v\",\"showlegend\":false,\"x\":[22750,21620,21520,21920,22130,22130,23150,25380,28760,32270,33270,33400,31790,32780,32600,32310,32640,31400,31370,31030,29680,28080,26870,25600],\"xaxis\":\"x\",\"y\":[0,0,0,0,10,940,3510,6750,9920,12250,12230,11030,9590,8760,7480,6040,3800,1360,150,0,0,0,0,0],\"yaxis\":\"y\",\"type\":\"scatter\"}],\"name\":\"2023-06-01 00:00:00\"},{\"data\":[{\"hovertemplate\":\"\\u003cb\\u003e%{hovertext}\\u003c\\u002fb\\u003e\\u003cbr\\u003e\\u003cbr\\u003edate=2023-06-02 00:00:00\\u003cbr\\u003eElectricity demand=%{x}\\u003cbr\\u003eSolar output=%{marker.size}\\u003cbr\\u003eprice=%{marker.color}\\u003cextra\\u003e\\u003c\\u002fextra\\u003e\",\"hovertext\":[10.13,9.31,10.09,10.1,10.1,10.05,10.1,11.11,12.05,13.81,13.81,13.81,12.19,13.81,13.1,13.77,13.25,12.17,12.16,12.03,10.55,10.09,10.25,10.37],\"legendgroup\":\"\",\"marker\":{\"color\":[10.13,9.31,10.09,10.1,10.1,10.05,10.1,11.11,12.05,13.81,13.81,13.81,12.19,13.81,13.1,13.77,13.25,12.17,12.16,12.03,10.55,10.09,10.25,10.37],\"coloraxis\":\"coloraxis\",\"size\":[0,0,0,0,10,100,260,430,600,830,1020,1220,1100,880,900,670,370,150,20,0,0,0,0,0],\"sizemode\":\"area\",\"sizeref\":1.506,\"symbol\":\"circle\"},\"mode\":\"markers\",\"name\":\"\",\"orientation\":\"v\",\"showlegend\":false,\"x\":[23720,22640,22470,22840,23120,23320,24560,27010,30550,33090,33660,33630,32870,34030,34240,34500,34500,33360,32680,31760,30370,28830,27690,26370],\"xaxis\":\"x\",\"y\":[0,0,0,0,10,100,260,430,600,830,1020,1220,1100,880,900,670,370,150,20,0,0,0,0,0],\"yaxis\":\"y\",\"type\":\"scatter\"}],\"name\":\"2023-06-02 00:00:00\"},{\"data\":[{\"hovertemplate\":\"\\u003cb\\u003e%{hovertext}\\u003c\\u002fb\\u003e\\u003cbr\\u003e\\u003cbr\\u003edate=2023-06-03 00:00:00\\u003cbr\\u003eElectricity demand=%{x}\\u003cbr\\u003eSolar output=%{marker.size}\\u003cbr\\u003eprice=%{marker.color}\\u003cextra\\u003e\\u003c\\u002fextra\\u003e\",\"hovertext\":[11.08,10.14,10.14,9.95,9.2,9.74,9.48,8.81,8.8,8.79,8.73,8.46,7.01,5.51,7.01,4.83,8.15,9.36,10.71,10.66,10.49,10.13,10.65,9.59],\"legendgroup\":\"\",\"marker\":{\"color\":[11.08,10.14,10.14,9.95,9.2,9.74,9.48,8.81,8.8,8.79,8.73,8.46,7.01,5.51,7.01,4.83,8.15,9.36,10.71,10.66,10.49,10.13,10.65,9.59],\"coloraxis\":\"coloraxis\",\"size\":[0,0,0,0,10,240,660,1080,1740,3150,5540,7620,8780,9530,10060,8230,4950,1800,220,0,0,0,0,0],\"sizemode\":\"area\",\"sizeref\":1.506,\"symbol\":\"circle\"},\"mode\":\"markers\",\"name\":\"\",\"orientation\":\"v\",\"showlegend\":false,\"x\":[24740,23560,23090,23230,23140,22880,22800,23850,25430,26550,26640,27290,27130,26910,27300,27410,27440,27520,27730,27990,26880,25440,24440,23380],\"xaxis\":\"x\",\"y\":[0,0,0,0,10,240,660,1080,1740,3150,5540,7620,8780,9530,10060,8230,4950,1800,220,0,0,0,0,0],\"yaxis\":\"y\",\"type\":\"scatter\"}],\"name\":\"2023-06-03 00:00:00\"},{\"data\":[{\"hovertemplate\":\"\\u003cb\\u003e%{hovertext}\\u003c\\u002fb\\u003e\\u003cbr\\u003e\\u003cbr\\u003edate=2023-06-04 00:00:00\\u003cbr\\u003eElectricity demand=%{x}\\u003cbr\\u003eSolar output=%{marker.size}\\u003cbr\\u003eprice=%{marker.color}\\u003cextra\\u003e\\u003c\\u002fextra\\u003e\",\"hovertext\":[8.33,7.82,7.93,8.02,8.22,3.5,0.01,0.01,0.01,0.01,0.01,0.01,0.01,0.01,0.06,7.87,6.68,9.41,11.79,12.24,11.32,10.35,9.36,8.56],\"legendgroup\":\"\",\"marker\":{\"color\":[8.33,7.82,7.93,8.02,8.22,3.5,0.01,0.01,0.01,0.01,0.01,0.01,0.01,0.01,0.06,7.87,6.68,9.41,11.79,12.24,11.32,10.35,9.36,8.56],\"coloraxis\":\"coloraxis\",\"size\":[0,0,0,0,10,850,3240,6790,10140,13010,14650,15060,14500,12610,8570,5300,2980,1190,150,0,0,0,0,0],\"sizemode\":\"area\",\"sizeref\":1.506,\"symbol\":\"circle\"},\"mode\":\"markers\",\"name\":\"\",\"orientation\":\"v\",\"showlegend\":false,\"x\":[21870,20840,20620,20930,20910,20390,20000,20980,22850,25130,26680,27510,27730,27980,27200,26190,26330,26800,27750,28140,27190,25740,24330,23260],\"xaxis\":\"x\",\"y\":[0,0,0,0,10,850,3240,6790,10140,13010,14650,15060,14500,12610,8570,5300,2980,1190,150,0,0,0,0,0],\"yaxis\":\"y\",\"type\":\"scatter\"}],\"name\":\"2023-06-04 00:00:00\"},{\"data\":[{\"hovertemplate\":\"\\u003cb\\u003e%{hovertext}\\u003c\\u002fb\\u003e\\u003cbr\\u003e\\u003cbr\\u003edate=2023-06-05 00:00:00\\u003cbr\\u003eElectricity demand=%{x}\\u003cbr\\u003eSolar output=%{marker.size}\\u003cbr\\u003eprice=%{marker.color}\\u003cextra\\u003e\\u003c\\u002fextra\\u003e\",\"hovertext\":[8.66,8.46,8.83,9.17,9.43,8.5,3.0,7.9,6.92,7.82,7.69,8.17,8.07,9.78,11.68,13.16,13.42,13.45,13.49,13.49,11.68,11.26,10.87,9.8],\"legendgroup\":\"\",\"marker\":{\"color\":[8.66,8.46,8.83,9.17,9.43,8.5,3.0,7.9,6.92,7.82,7.69,8.17,8.07,9.78,11.68,13.16,13.42,13.45,13.49,13.49,11.68,11.26,10.87,9.8],\"coloraxis\":\"coloraxis\",\"size\":[0,0,0,0,10,760,2820,5870,8380,10220,11840,12480,13040,12760,10210,6800,3350,1450,200,0,0,0,0,0],\"sizemode\":\"area\",\"sizeref\":1.506,\"symbol\":\"circle\"},\"mode\":\"markers\",\"name\":\"\",\"orientation\":\"v\",\"showlegend\":false,\"x\":[21670,20650,20500,20950,21200,21160,22200,24750,28780,31980,33330,34190,33560,35780,35920,35280,33620,32420,32040,31570,30060,28350,27040,25600],\"xaxis\":\"x\",\"y\":[0,0,0,0,10,760,2820,5870,8380,10220,11840,12480,13040,12760,10210,6800,3350,1450,200,0,0,0,0,0],\"yaxis\":\"y\",\"type\":\"scatter\"}],\"name\":\"2023-06-05 00:00:00\"},{\"data\":[{\"hovertemplate\":\"\\u003cb\\u003e%{hovertext}\\u003c\\u002fb\\u003e\\u003cbr\\u003e\\u003cbr\\u003edate=2023-06-06 00:00:00\\u003cbr\\u003eElectricity demand=%{x}\\u003cbr\\u003eSolar output=%{marker.size}\\u003cbr\\u003eprice=%{marker.color}\\u003cextra\\u003e\\u003c\\u002fextra\\u003e\",\"hovertext\":[9.4,8.38,8.72,9.07,9.1,8.52,8.11,5.02,8.51,8.8,8.63,9.16,9.15,10.61,12.75,12.5,12.78,12.61,13.16,13.13,11.45,11.16,10.87,9.45],\"legendgroup\":\"\",\"marker\":{\"color\":[9.4,8.38,8.72,9.07,9.1,8.52,8.11,5.02,8.51,8.8,8.63,9.16,9.15,10.61,12.75,12.5,12.78,12.61,13.16,13.13,11.45,11.16,10.87,9.45],\"coloraxis\":\"coloraxis\",\"size\":[0,0,0,0,10,790,2800,4980,5900,6270,6620,7250,8110,5940,3430,2210,1180,400,40,0,0,0,0,0],\"sizemode\":\"area\",\"sizeref\":1.506,\"symbol\":\"circle\"},\"mode\":\"markers\",\"name\":\"\",\"orientation\":\"v\",\"showlegend\":false,\"x\":[23660,22490,22200,22550,22610,22370,23250,25590,29180,31720,32130,32100,31640,33670,33170,32640,32810,32040,31940,31080,29650,27990,26840,25400],\"xaxis\":\"x\",\"y\":[0,0,0,0,10,790,2800,4980,5900,6270,6620,7250,8110,5940,3430,2210,1180,400,40,0,0,0,0,0],\"yaxis\":\"y\",\"type\":\"scatter\"}],\"name\":\"2023-06-06 00:00:00\"},{\"data\":[{\"hovertemplate\":\"\\u003cb\\u003e%{hovertext}\\u003c\\u002fb\\u003e\\u003cbr\\u003e\\u003cbr\\u003edate=2023-06-07 00:00:00\\u003cbr\\u003eElectricity demand=%{x}\\u003cbr\\u003eSolar output=%{marker.size}\\u003cbr\\u003eprice=%{marker.color}\\u003cextra\\u003e\\u003c\\u002fextra\\u003e\",\"hovertext\":[13.21,10.92,11.33,11.42,12.27,10.8,9.51,8.77,8.73,8.58,7.89,7.64,5.0,7.8,3.25,9.45,11.35,12.64,13.41,13.41,12.93,11.26,11.18,10.38],\"legendgroup\":\"\",\"marker\":{\"color\":[13.21,10.92,11.33,11.42,12.27,10.8,9.51,8.77,8.73,8.58,7.89,7.64,5.0,7.8,3.25,9.45,11.35,12.64,13.41,13.41,12.93,11.26,11.18,10.38],\"coloraxis\":\"coloraxis\",\"size\":[0,0,0,0,10,510,2140,5420,9540,12390,14270,14870,14370,12850,10810,7670,4160,1550,190,0,0,0,0,0],\"sizemode\":\"area\",\"sizeref\":1.506,\"symbol\":\"circle\"},\"mode\":\"markers\",\"name\":\"\",\"orientation\":\"v\",\"showlegend\":false,\"x\":[23450,22370,22150,22460,22680,22810,23500,25490,29580,32910,34550,35500,34740,35970,36140,36040,35380,33640,32940,32390,30780,28990,27570,26080],\"xaxis\":\"x\",\"y\":[0,0,0,0,10,510,2140,5420,9540,12390,14270,14870,14370,12850,10810,7670,4160,1550,190,0,0,0,0,0],\"yaxis\":\"y\",\"type\":\"scatter\"}],\"name\":\"2023-06-07 00:00:00\"},{\"data\":[{\"hovertemplate\":\"\\u003cb\\u003e%{hovertext}\\u003c\\u002fb\\u003e\\u003cbr\\u003e\\u003cbr\\u003edate=2023-06-08 00:00:00\\u003cbr\\u003eElectricity demand=%{x}\\u003cbr\\u003eSolar output=%{marker.size}\\u003cbr\\u003eprice=%{marker.color}\\u003cextra\\u003e\\u003c\\u002fextra\\u003e\",\"hovertext\":[11.17,9.68,9.12,10.03,10.34,9.63,8.76,8.65,8.59,8.52,8.45,8.55,8.54,10.21,11.74,12.64,13.13,13.13,13.13,13.13,11.64,10.63,10.7,11.12],\"legendgroup\":\"\",\"marker\":{\"color\":[11.17,9.68,9.12,10.03,10.34,9.63,8.76,8.65,8.59,8.52,8.45,8.55,8.54,10.21,11.74,12.64,13.13,13.13,13.13,13.13,11.64,10.63,10.7,11.12],\"coloraxis\":\"coloraxis\",\"size\":[0,0,0,0,10,760,2800,5250,8380,11080,12350,12380,9280,5700,3500,2200,1040,310,30,0,0,0,0,0],\"sizemode\":\"area\",\"sizeref\":1.506,\"symbol\":\"circle\"},\"mode\":\"markers\",\"name\":\"\",\"orientation\":\"v\",\"showlegend\":false,\"x\":[24110,22780,22460,22740,22900,22900,24130,26810,30740,34660,35890,37360,36180,36210,35600,34600,34560,33700,33400,32550,30980,29170,27760,26150],\"xaxis\":\"x\",\"y\":[0,0,0,0,10,760,2800,5250,8380,11080,12350,12380,9280,5700,3500,2200,1040,310,30,0,0,0,0,0],\"yaxis\":\"y\",\"type\":\"scatter\"}],\"name\":\"2023-06-08 00:00:00\"},{\"data\":[{\"hovertemplate\":\"\\u003cb\\u003e%{hovertext}\\u003c\\u002fb\\u003e\\u003cbr\\u003e\\u003cbr\\u003edate=2023-06-09 00:00:00\\u003cbr\\u003eElectricity demand=%{x}\\u003cbr\\u003eSolar output=%{marker.size}\\u003cbr\\u003eprice=%{marker.color}\\u003cextra\\u003e\\u003c\\u002fextra\\u003e\",\"hovertext\":[10.32,8.94,8.86,9.11,8.81,9.09,9.42,9.81,10.35,11.84,11.33,11.33,9.48,11.16,11.45,11.5,11.93,12.53,12.58,12.43,11.43,10.1,11.09,9.75],\"legendgroup\":\"\",\"marker\":{\"color\":[10.32,8.94,8.86,9.11,8.81,9.09,9.42,9.81,10.35,11.84,11.33,11.33,9.48,11.16,11.45,11.5,11.93,12.53,12.58,12.43,11.43,10.1,11.09,9.75],\"coloraxis\":\"coloraxis\",\"size\":[0,0,0,0,10,90,220,430,1120,2130,2350,2660,3250,3170,3580,3400,1770,490,60,0,0,0,0,0],\"sizemode\":\"area\",\"sizeref\":1.506,\"symbol\":\"circle\"},\"mode\":\"markers\",\"name\":\"\",\"orientation\":\"v\",\"showlegend\":false,\"x\":[24160,22860,22640,22980,23270,23730,25100,27480,30490,32930,33460,33440,32000,33190,32950,33350,33650,32570,32280,31620,30180,28570,27240,25840],\"xaxis\":\"x\",\"y\":[0,0,0,0,10,90,220,430,1120,2130,2350,2660,3250,3170,3580,3400,1770,490,60,0,0,0,0,0],\"yaxis\":\"y\",\"type\":\"scatter\"}],\"name\":\"2023-06-09 00:00:00\"},{\"data\":[{\"hovertemplate\":\"\\u003cb\\u003e%{hovertext}\\u003c\\u002fb\\u003e\\u003cbr\\u003e\\u003cbr\\u003edate=2023-06-10 00:00:00\\u003cbr\\u003eElectricity demand=%{x}\\u003cbr\\u003eSolar output=%{marker.size}\\u003cbr\\u003eprice=%{marker.color}\\u003cextra\\u003e\\u003c\\u002fextra\\u003e\",\"hovertext\":[9.59,8.8,9.26,9.57,9.16,8.88,8.36,8.11,9.31,10.19,10.01,10.29,10.0,10.58,10.73,10.66,10.72,10.87,11.1,11.15,10.92,10.67,10.52,9.38],\"legendgroup\":\"\",\"marker\":{\"color\":[9.59,8.8,9.26,9.57,9.16,8.88,8.36,8.11,9.31,10.19,10.01,10.29,10.0,10.58,10.73,10.66,10.72,10.87,11.1,11.15,10.92,10.67,10.52,9.38],\"coloraxis\":\"coloraxis\",\"size\":[0,0,0,0,10,420,1670,3670,5320,8290,9200,7730,5360,4540,4610,3520,2260,860,90,0,0,0,0,0],\"sizemode\":\"area\",\"sizeref\":1.506,\"symbol\":\"circle\"},\"mode\":\"markers\",\"name\":\"\",\"orientation\":\"v\",\"showlegend\":false,\"x\":[23960,22700,22370,22640,22620,22180,21960,23160,25350,27700,29290,29880,28910,27890,28250,28030,28420,28650,29240,29210,28100,26660,25560,24430],\"xaxis\":\"x\",\"y\":[0,0,0,0,10,420,1670,3670,5320,8290,9200,7730,5360,4540,4610,3520,2260,860,90,0,0,0,0,0],\"yaxis\":\"y\",\"type\":\"scatter\"}],\"name\":\"2023-06-10 00:00:00\"},{\"data\":[{\"hovertemplate\":\"\\u003cb\\u003e%{hovertext}\\u003c\\u002fb\\u003e\\u003cbr\\u003e\\u003cbr\\u003edate=2023-06-11 00:00:00\\u003cbr\\u003eElectricity demand=%{x}\\u003cbr\\u003eSolar output=%{marker.size}\\u003cbr\\u003eprice=%{marker.color}\\u003cextra\\u003e\\u003c\\u002fextra\\u003e\",\"hovertext\":[10.55,9.73,9.73,10.03,10.13,9.7,9.27,9.69,9.76,9.76,9.76,9.88,9.34,9.05,9.88,10.59,10.62,10.61,10.73,10.71,10.32,9.89,9.22,8.42],\"legendgroup\":\"\",\"marker\":{\"color\":[10.55,9.73,9.73,10.03,10.13,9.7,9.27,9.69,9.76,9.76,9.76,9.88,9.34,9.05,9.88,10.59,10.62,10.61,10.73,10.71,10.32,9.89,9.22,8.42],\"coloraxis\":\"coloraxis\",\"size\":[0,0,0,0,10,200,530,720,1160,1890,2450,3160,3200,2600,2030,1330,730,240,30,0,0,0,0,0],\"sizemode\":\"area\",\"sizeref\":1.506,\"symbol\":\"circle\"},\"mode\":\"markers\",\"name\":\"\",\"orientation\":\"v\",\"showlegend\":false,\"x\":[22720,21620,21390,21610,21700,21580,21560,22450,24030,25480,26160,26680,27080,27150,27230,27090,27640,28400,29020,28920,27890,26490,25100,23970],\"xaxis\":\"x\",\"y\":[0,0,0,0,10,200,530,720,1160,1890,2450,3160,3200,2600,2030,1330,730,240,30,0,0,0,0,0],\"yaxis\":\"y\",\"type\":\"scatter\"}],\"name\":\"2023-06-11 00:00:00\"},{\"data\":[{\"hovertemplate\":\"\\u003cb\\u003e%{hovertext}\\u003c\\u002fb\\u003e\\u003cbr\\u003e\\u003cbr\\u003edate=2023-06-12 00:00:00\\u003cbr\\u003eElectricity demand=%{x}\\u003cbr\\u003eSolar output=%{marker.size}\\u003cbr\\u003eprice=%{marker.color}\\u003cextra\\u003e\\u003c\\u002fextra\\u003e\",\"hovertext\":[8.43,8.31,8.1,8.03,8.02,7.88,7.82,8.03,8.45,10.74,10.82,11.18,10.72,11.35,12.53,13.34,13.59,13.59,13.59,13.59,11.52,10.47,10.16,8.88],\"legendgroup\":\"\",\"marker\":{\"color\":[8.43,8.31,8.1,8.03,8.02,7.88,7.82,8.03,8.45,10.74,10.82,11.18,10.72,11.35,12.53,13.34,13.59,13.59,13.59,13.59,11.52,10.47,10.16,8.88],\"coloraxis\":\"coloraxis\",\"size\":[0,0,0,0,10,220,540,1070,1570,2210,2660,2870,2570,1910,1920,1170,590,230,40,0,0,0,0,0],\"sizemode\":\"area\",\"sizeref\":1.506,\"symbol\":\"circle\"},\"mode\":\"markers\",\"name\":\"\",\"orientation\":\"v\",\"showlegend\":false,\"x\":[22310,21260,21070,21510,21900,22320,23860,26650,30210,32970,33500,33660,32620,33420,34020,33740,33740,33240,32930,32100,30630,29000,27740,26340],\"xaxis\":\"x\",\"y\":[0,0,0,0,10,220,540,1070,1570,2210,2660,2870,2570,1910,1920,1170,590,230,40,0,0,0,0,0],\"yaxis\":\"y\",\"type\":\"scatter\"}],\"name\":\"2023-06-12 00:00:00\"},{\"data\":[{\"hovertemplate\":\"\\u003cb\\u003e%{hovertext}\\u003c\\u002fb\\u003e\\u003cbr\\u003e\\u003cbr\\u003edate=2023-06-13 00:00:00\\u003cbr\\u003eElectricity demand=%{x}\\u003cbr\\u003eSolar output=%{marker.size}\\u003cbr\\u003eprice=%{marker.color}\\u003cextra\\u003e\\u003c\\u002fextra\\u003e\",\"hovertext\":[9.52,8.72,8.24,8.06,8.02,8.1,8.15,7.98,7.93,8.05,7.65,7.25,5.0,8.43,11.13,13.92,14.01,14.01,14.01,14.01,14.01,11.03,10.71,10.02],\"legendgroup\":\"\",\"marker\":{\"color\":[9.52,8.72,8.24,8.06,8.02,8.1,8.15,7.98,7.93,8.05,7.65,7.25,5.0,8.43,11.13,13.92,14.01,14.01,14.01,14.01,14.01,11.03,10.71,10.02],\"coloraxis\":\"coloraxis\",\"size\":[0,0,0,0,10,500,1560,3320,6180,9510,11550,12000,11960,11300,9320,6540,3620,1270,170,0,0,0,0,0],\"sizemode\":\"area\",\"sizeref\":1.506,\"symbol\":\"circle\"},\"mode\":\"markers\",\"name\":\"\",\"orientation\":\"v\",\"showlegend\":false,\"x\":[24400,23060,22770,23100,23300,23580,24970,27320,30970,34570,36900,38060,37190,38980,39310,38370,37730,35760,34760,33890,32320,30500,29060,27520],\"xaxis\":\"x\",\"y\":[0,0,0,0,10,500,1560,3320,6180,9510,11550,12000,11960,11300,9320,6540,3620,1270,170,0,0,0,0,0],\"yaxis\":\"y\",\"type\":\"scatter\"}],\"name\":\"2023-06-13 00:00:00\"},{\"data\":[{\"hovertemplate\":\"\\u003cb\\u003e%{hovertext}\\u003c\\u002fb\\u003e\\u003cbr\\u003e\\u003cbr\\u003edate=2023-06-14 00:00:00\\u003cbr\\u003eElectricity demand=%{x}\\u003cbr\\u003eSolar output=%{marker.size}\\u003cbr\\u003eprice=%{marker.color}\\u003cextra\\u003e\\u003c\\u002fextra\\u003e\",\"hovertext\":[9.42,8.67,8.69,8.85,8.71,8.63,10.07,10.1,12.09,13.57,13.58,13.39,10.83,11.12,11.35,11.6,11.12,12.23,13.62,13.62,11.12,10.31,9.17,9.02],\"legendgroup\":\"\",\"marker\":{\"color\":[9.42,8.67,8.69,8.85,8.71,8.63,10.07,10.1,12.09,13.57,13.58,13.39,10.83,11.12,11.35,11.6,11.12,12.23,13.62,13.62,11.12,10.31,9.17,9.02],\"coloraxis\":\"coloraxis\",\"size\":[0,0,0,0,10,120,580,1300,2520,3900,3670,3690,3270,3130,2310,1360,960,740,120,0,0,0,0,0],\"sizemode\":\"area\",\"sizeref\":1.506,\"symbol\":\"circle\"},\"mode\":\"markers\",\"name\":\"\",\"orientation\":\"v\",\"showlegend\":false,\"x\":[25350,23970,23590,23780,23960,24100,25460,28250,32360,35840,36410,36400,35020,35950,35870,34880,34440,34130,33720,33040,31540,29810,28530,26990],\"xaxis\":\"x\",\"y\":[0,0,0,0,10,120,580,1300,2520,3900,3670,3690,3270,3130,2310,1360,960,740,120,0,0,0,0,0],\"yaxis\":\"y\",\"type\":\"scatter\"}],\"name\":\"2023-06-14 00:00:00\"},{\"data\":[{\"hovertemplate\":\"\\u003cb\\u003e%{hovertext}\\u003c\\u002fb\\u003e\\u003cbr\\u003e\\u003cbr\\u003edate=2023-06-15 00:00:00\\u003cbr\\u003eElectricity demand=%{x}\\u003cbr\\u003eSolar output=%{marker.size}\\u003cbr\\u003eprice=%{marker.color}\\u003cextra\\u003e\\u003c\\u002fextra\\u003e\",\"hovertext\":[10.32,8.9,8.71,9.02,9.27,9.11,9.69,11.0,10.75,11.67,11.31,11.6,10.73,11.45,11.74,12.1,12.68,12.68,13.1,12.68,10.74,9.28,9.83,9.41],\"legendgroup\":\"\",\"marker\":{\"color\":[10.32,8.9,8.71,9.02,9.27,9.11,9.69,11.0,10.75,11.67,11.31,11.6,10.73,11.45,11.74,12.1,12.68,12.68,13.1,12.68,10.74,9.28,9.83,9.41],\"coloraxis\":\"coloraxis\",\"size\":[0,0,0,0,10,200,700,1460,2290,3020,4620,4160,2330,1740,1380,1210,670,250,40,0,0,0,0,0],\"sizemode\":\"area\",\"sizeref\":1.506,\"symbol\":\"circle\"},\"mode\":\"markers\",\"name\":\"\",\"orientation\":\"v\",\"showlegend\":false,\"x\":[25050,23740,23340,23610,23830,23990,24900,27500,31300,34060,34750,35920,34080,35190,35070,34720,34690,33900,33580,32610,31090,29420,28090,26620],\"xaxis\":\"x\",\"y\":[0,0,0,0,10,200,700,1460,2290,3020,4620,4160,2330,1740,1380,1210,670,250,40,0,0,0,0,0],\"yaxis\":\"y\",\"type\":\"scatter\"}],\"name\":\"2023-06-15 00:00:00\"},{\"data\":[{\"hovertemplate\":\"\\u003cb\\u003e%{hovertext}\\u003c\\u002fb\\u003e\\u003cbr\\u003e\\u003cbr\\u003edate=2023-06-16 00:00:00\\u003cbr\\u003eElectricity demand=%{x}\\u003cbr\\u003eSolar output=%{marker.size}\\u003cbr\\u003eprice=%{marker.color}\\u003cextra\\u003e\\u003c\\u002fextra\\u003e\",\"hovertext\":[10.13,8.77,9.1,9.36,9.53,9.25,9.48,9.77,8.63,8.62,8.63,8.49,8.38,8.9,8.76,9.63,10.83,11.12,13.56,14.14,11.19,10.26,10.56,9.9],\"legendgroup\":\"\",\"marker\":{\"color\":[10.13,8.77,9.1,9.36,9.53,9.25,9.48,9.77,8.63,8.62,8.63,8.49,8.38,8.9,8.76,9.63,10.83,11.12,13.56,14.14,11.19,10.26,10.56,9.9],\"coloraxis\":\"coloraxis\",\"size\":[0,0,0,0,10,670,2690,5910,9050,11660,12390,12550,12070,11420,9530,7040,4530,1930,300,0,0,0,0,0],\"sizemode\":\"area\",\"sizeref\":1.506,\"symbol\":\"circle\"},\"mode\":\"markers\",\"name\":\"\",\"orientation\":\"v\",\"showlegend\":false,\"x\":[24630,23330,23050,23250,23370,23470,24810,27840,32160,36280,37720,38390,37120,38460,38460,37670,36830,35090,33730,32930,31220,29310,27940,26340],\"xaxis\":\"x\",\"y\":[0,0,0,0,10,670,2690,5910,9050,11660,12390,12550,12070,11420,9530,7040,4530,1930,300,0,0,0,0,0],\"yaxis\":\"y\",\"type\":\"scatter\"}],\"name\":\"2023-06-16 00:00:00\"},{\"data\":[{\"hovertemplate\":\"\\u003cb\\u003e%{hovertext}\\u003c\\u002fb\\u003e\\u003cbr\\u003e\\u003cbr\\u003edate=2023-06-17 00:00:00\\u003cbr\\u003eElectricity demand=%{x}\\u003cbr\\u003eSolar output=%{marker.size}\\u003cbr\\u003eprice=%{marker.color}\\u003cextra\\u003e\\u003c\\u002fextra\\u003e\",\"hovertext\":[10.8,9.79,9.9,10.01,10.49,9.34,6.47,7.0,7.55,7.5,7.65,7.62,7.69,5.0,8.06,8.96,11.27,13.16,13.82,13.82,13.82,12.08,10.97,10.87],\"legendgroup\":\"\",\"marker\":{\"color\":[10.8,9.79,9.9,10.01,10.49,9.34,6.47,7.0,7.55,7.5,7.65,7.62,7.69,5.0,8.06,8.96,11.27,13.16,13.82,13.82,13.82,12.08,10.97,10.87],\"coloraxis\":\"coloraxis\",\"size\":[0,0,0,0,10,970,3520,7040,10230,12690,14200,14650,14230,13200,11230,8510,5120,1990,300,0,0,0,0,0],\"sizemode\":\"area\",\"sizeref\":1.506,\"symbol\":\"circle\"},\"mode\":\"markers\",\"name\":\"\",\"orientation\":\"v\",\"showlegend\":false,\"x\":[24330,22890,22400,22580,22420,22190,22350,23880,26700,29530,31240,32250,32330,32630,32450,32490,32530,32100,31520,31330,30090,28390,27050,25660],\"xaxis\":\"x\",\"y\":[0,0,0,0,10,970,3520,7040,10230,12690,14200,14650,14230,13200,11230,8510,5120,1990,300,0,0,0,0,0],\"yaxis\":\"y\",\"type\":\"scatter\"}],\"name\":\"2023-06-17 00:00:00\"},{\"data\":[{\"hovertemplate\":\"\\u003cb\\u003e%{hovertext}\\u003c\\u002fb\\u003e\\u003cbr\\u003e\\u003cbr\\u003edate=2023-06-18 00:00:00\\u003cbr\\u003eElectricity demand=%{x}\\u003cbr\\u003eSolar output=%{marker.size}\\u003cbr\\u003eprice=%{marker.color}\\u003cextra\\u003e\\u003c\\u002fextra\\u003e\",\"hovertext\":[10.81,10.47,9.79,9.89,9.99,9.14,7.71,7.45,7.24,6.79,7.38,7.61,7.89,8.25,8.88,9.78,12.51,13.38,13.93,13.54,13.38,11.68,10.92,10.27],\"legendgroup\":\"\",\"marker\":{\"color\":[10.81,10.47,9.79,9.89,9.99,9.14,7.71,7.45,7.24,6.79,7.38,7.61,7.89,8.25,8.88,9.78,12.51,13.38,13.93,13.54,13.38,11.68,10.92,10.27],\"coloraxis\":\"coloraxis\",\"size\":[0,0,0,0,10,950,3330,6460,9200,11460,11130,10330,9530,8990,8560,6860,4100,1610,250,0,0,0,0,0],\"sizemode\":\"area\",\"sizeref\":1.506,\"symbol\":\"circle\"},\"mode\":\"markers\",\"name\":\"\",\"orientation\":\"v\",\"showlegend\":false,\"x\":[23670,22370,21950,22070,21960,21650,21910,23490,26050,29310,30650,31150,31370,31600,31900,32240,32130,32060,32200,32360,31080,29350,27590,26000],\"xaxis\":\"x\",\"y\":[0,0,0,0,10,950,3330,6460,9200,11460,11130,10330,9530,8990,8560,6860,4100,1610,250,0,0,0,0,0],\"yaxis\":\"y\",\"type\":\"scatter\"}],\"name\":\"2023-06-18 00:00:00\"},{\"data\":[{\"hovertemplate\":\"\\u003cb\\u003e%{hovertext}\\u003c\\u002fb\\u003e\\u003cbr\\u003e\\u003cbr\\u003edate=2023-06-19 00:00:00\\u003cbr\\u003eElectricity demand=%{x}\\u003cbr\\u003eSolar output=%{marker.size}\\u003cbr\\u003eprice=%{marker.color}\\u003cextra\\u003e\\u003c\\u002fextra\\u003e\",\"hovertext\":[11.25,10.16,10.02,9.68,9.45,9.0,8.34,8.19,8.86,9.88,9.16,8.7,8.77,8.93,8.95,10.72,10.92,11.28,13.05,13.44,11.29,10.42,10.26,9.49],\"legendgroup\":\"\",\"marker\":{\"color\":[11.25,10.16,10.02,9.68,9.45,9.0,8.34,8.19,8.86,9.88,9.16,8.7,8.77,8.93,8.95,10.72,10.92,11.28,13.05,13.44,11.29,10.42,10.26,9.49],\"coloraxis\":\"coloraxis\",\"size\":[0,0,0,0,10,700,2310,4660,7010,9320,11340,12110,12350,11380,9490,7110,4070,1670,240,0,0,0,0,0],\"sizemode\":\"area\",\"sizeref\":1.506,\"symbol\":\"circle\"},\"mode\":\"markers\",\"name\":\"\",\"orientation\":\"v\",\"showlegend\":false,\"x\":[23930,22460,21910,22210,22410,22830,24490,27810,32030,35350,36920,37850,37100,38410,38100,37230,36330,35080,33640,32710,30950,29130,27930,26380],\"xaxis\":\"x\",\"y\":[0,0,0,0,10,700,2310,4660,7010,9320,11340,12110,12350,11380,9490,7110,4070,1670,240,0,0,0,0,0],\"yaxis\":\"y\",\"type\":\"scatter\"}],\"name\":\"2023-06-19 00:00:00\"},{\"data\":[{\"hovertemplate\":\"\\u003cb\\u003e%{hovertext}\\u003c\\u002fb\\u003e\\u003cbr\\u003e\\u003cbr\\u003edate=2023-06-20 00:00:00\\u003cbr\\u003eElectricity demand=%{x}\\u003cbr\\u003eSolar output=%{marker.size}\\u003cbr\\u003eprice=%{marker.color}\\u003cextra\\u003e\\u003c\\u002fextra\\u003e\",\"hovertext\":[10.31,9.79,9.9,9.37,9.5,9.13,8.33,8.05,8.53,9.18,8.51,8.47,7.89,8.56,8.26,9.28,11.48,12.0,12.44,12.53,11.22,10.35,10.73,9.9],\"legendgroup\":\"\",\"marker\":{\"color\":[10.31,9.79,9.9,9.37,9.5,9.13,8.33,8.05,8.53,9.18,8.51,8.47,7.89,8.56,8.26,9.28,11.48,12.0,12.44,12.53,11.22,10.35,10.73,9.9],\"coloraxis\":\"coloraxis\",\"size\":[0,0,0,0,10,470,1860,4230,6660,8880,9610,9270,10070,10710,10020,7960,4750,1890,280,0,0,0,0,0],\"sizemode\":\"area\",\"sizeref\":1.506,\"symbol\":\"circle\"},\"mode\":\"markers\",\"name\":\"\",\"orientation\":\"v\",\"showlegend\":false,\"x\":[24360,23190,22880,23080,23390,23460,24440,26650,30620,34150,35400,35370,34110,35930,36390,36300,35860,34340,33540,32750,31120,29260,27930,26440],\"xaxis\":\"x\",\"y\":[0,0,0,0,10,470,1860,4230,6660,8880,9610,9270,10070,10710,10020,7960,4750,1890,280,0,0,0,0,0],\"yaxis\":\"y\",\"type\":\"scatter\"}],\"name\":\"2023-06-20 00:00:00\"},{\"data\":[{\"hovertemplate\":\"\\u003cb\\u003e%{hovertext}\\u003c\\u002fb\\u003e\\u003cbr\\u003e\\u003cbr\\u003edate=2023-06-21 00:00:00\\u003cbr\\u003eElectricity demand=%{x}\\u003cbr\\u003eSolar output=%{marker.size}\\u003cbr\\u003eprice=%{marker.color}\\u003cextra\\u003e\\u003c\\u002fextra\\u003e\",\"hovertext\":[9.91,9.91,9.79,10.09,9.89,9.33,8.49,8.27,8.65,9.33,8.71,9.0,8.65,9.56,10.81,10.84,11.19,11.26,12.01,12.15,11.31,10.31,10.3,9.7],\"legendgroup\":\"\",\"marker\":{\"color\":[9.91,9.91,9.79,10.09,9.89,9.33,8.49,8.27,8.65,9.33,8.71,9.0,8.65,9.56,10.81,10.84,11.19,11.26,12.01,12.15,11.31,10.31,10.3,9.7],\"coloraxis\":\"coloraxis\",\"size\":[0,0,0,0,10,720,3140,6310,8950,11260,12280,11790,10620,8320,5970,4690,3320,1530,230,0,0,0,0,0],\"sizemode\":\"area\",\"sizeref\":1.506,\"symbol\":\"circle\"},\"mode\":\"markers\",\"name\":\"\",\"orientation\":\"v\",\"showlegend\":false,\"x\":[24410,23130,22740,22910,23090,23180,24360,27330,31710,35020,36520,36470,35180,36020,34970,34110,34210,33230,32720,32300,30800,29010,27640,26210],\"xaxis\":\"x\",\"y\":[0,0,0,0,10,720,3140,6310,8950,11260,12280,11790,10620,8320,5970,4690,3320,1530,230,0,0,0,0,0],\"yaxis\":\"y\",\"type\":\"scatter\"}],\"name\":\"2023-06-21 00:00:00\"},{\"data\":[{\"hovertemplate\":\"\\u003cb\\u003e%{hovertext}\\u003c\\u002fb\\u003e\\u003cbr\\u003e\\u003cbr\\u003edate=2023-06-22 00:00:00\\u003cbr\\u003eElectricity demand=%{x}\\u003cbr\\u003eSolar output=%{marker.size}\\u003cbr\\u003eprice=%{marker.color}\\u003cextra\\u003e\\u003c\\u002fextra\\u003e\",\"hovertext\":[9.6,9.06,9.34,9.59,9.78,9.08,9.03,10.35,10.4,10.93,10.94,11.07,10.07,11.02,11.25,11.12,11.2,11.01,11.05,10.97,10.49,9.52,9.91,9.98],\"legendgroup\":\"\",\"marker\":{\"color\":[9.6,9.06,9.34,9.59,9.78,9.08,9.03,10.35,10.4,10.93,10.94,11.07,10.07,11.02,11.25,11.12,11.2,11.01,11.05,10.97,10.49,9.52,9.91,9.98],\"coloraxis\":\"coloraxis\",\"size\":[0,0,0,0,10,420,1190,1760,1930,1540,1890,2230,2190,2010,1780,1120,580,240,40,0,0,0,0,0],\"sizemode\":\"area\",\"sizeref\":1.506,\"symbol\":\"circle\"},\"mode\":\"markers\",\"name\":\"\",\"orientation\":\"v\",\"showlegend\":false,\"x\":[24340,23060,22730,23000,23250,23460,24790,27280,31170,33720,34120,34150,32340,33210,33250,32800,32790,32390,32060,31100,29680,27900,26530,25180],\"xaxis\":\"x\",\"y\":[0,0,0,0,10,420,1190,1760,1930,1540,1890,2230,2190,2010,1780,1120,580,240,40,0,0,0,0,0],\"yaxis\":\"y\",\"type\":\"scatter\"}],\"name\":\"2023-06-22 00:00:00\"},{\"data\":[{\"hovertemplate\":\"\\u003cb\\u003e%{hovertext}\\u003c\\u002fb\\u003e\\u003cbr\\u003e\\u003cbr\\u003edate=2023-06-23 00:00:00\\u003cbr\\u003eElectricity demand=%{x}\\u003cbr\\u003eSolar output=%{marker.size}\\u003cbr\\u003eprice=%{marker.color}\\u003cextra\\u003e\\u003c\\u002fextra\\u003e\",\"hovertext\":[8.96,8.93,8.9,9.18,9.06,8.78,9.32,9.19,10.34,10.79,10.93,11.22,10.47,11.09,11.19,12.19,13.06,14.0,14.0,14.32,14.5,12.02,11.03,10.35],\"legendgroup\":\"\",\"marker\":{\"color\":[8.96,8.93,8.9,9.18,9.06,8.78,9.32,9.19,10.34,10.79,10.93,11.22,10.47,11.09,11.19,12.19,13.06,14.0,14.0,14.32,14.5,12.02,11.03,10.35],\"coloraxis\":\"coloraxis\",\"size\":[0,0,0,0,10,190,730,1620,2630,3540,4110,4860,5770,5340,4480,2910,1660,710,100,0,0,0,0,0],\"sizemode\":\"area\",\"sizeref\":1.506,\"symbol\":\"circle\"},\"mode\":\"markers\",\"name\":\"\",\"orientation\":\"v\",\"showlegend\":false,\"x\":[23360,22340,22200,22570,22920,23080,24150,26040,29220,31790,32150,32490,31760,33270,34060,33520,33190,32330,32080,31620,30260,28670,27530,26150],\"xaxis\":\"x\",\"y\":[0,0,0,0,10,190,730,1620,2630,3540,4110,4860,5770,5340,4480,2910,1660,710,100,0,0,0,0,0],\"yaxis\":\"y\",\"type\":\"scatter\"}],\"name\":\"2023-06-23 00:00:00\"},{\"data\":[{\"hovertemplate\":\"\\u003cb\\u003e%{hovertext}\\u003c\\u002fb\\u003e\\u003cbr\\u003e\\u003cbr\\u003edate=2023-06-24 00:00:00\\u003cbr\\u003eElectricity demand=%{x}\\u003cbr\\u003eSolar output=%{marker.size}\\u003cbr\\u003eprice=%{marker.color}\\u003cextra\\u003e\\u003c\\u002fextra\\u003e\",\"hovertext\":[13.12,12.67,13.49,13.49,12.96,12.43,11.72,11.5,12.16,12.24,12.43,12.4,12.89,13.63,13.01,15.04,16.04,16.03,16.18,16.22,16.22,14.29,14.97,13.79],\"legendgroup\":\"\",\"marker\":{\"color\":[13.12,12.67,13.49,13.49,12.96,12.43,11.72,11.5,12.16,12.24,12.43,12.4,12.89,13.63,13.01,15.04,16.04,16.03,16.18,16.22,16.22,14.29,14.97,13.79],\"coloraxis\":\"coloraxis\",\"size\":[0,0,0,0,10,510,2160,5290,8420,10930,11890,10920,9060,7650,6390,5090,2890,1280,220,0,0,0,0,0],\"sizemode\":\"area\",\"sizeref\":1.506,\"symbol\":\"circle\"},\"mode\":\"markers\",\"name\":\"\",\"orientation\":\"v\",\"showlegend\":false,\"x\":[24200,22960,22550,22700,22670,22020,22210,23750,26600,29640,31410,32060,31290,31050,30990,31070,30430,30010,30390,30720,29620,28000,26770,25440],\"xaxis\":\"x\",\"y\":[0,0,0,0,10,510,2160,5290,8420,10930,11890,10920,9060,7650,6390,5090,2890,1280,220,0,0,0,0,0],\"yaxis\":\"y\",\"type\":\"scatter\"}],\"name\":\"2023-06-24 00:00:00\"},{\"data\":[{\"hovertemplate\":\"\\u003cb\\u003e%{hovertext}\\u003c\\u002fb\\u003e\\u003cbr\\u003e\\u003cbr\\u003edate=2023-06-25 00:00:00\\u003cbr\\u003eElectricity demand=%{x}\\u003cbr\\u003eSolar output=%{marker.size}\\u003cbr\\u003eprice=%{marker.color}\\u003cextra\\u003e\\u003c\\u002fextra\\u003e\",\"hovertext\":[14.35,12.29,12.19,12.26,12.29,12.02,11.43,10.07,9.85,9.83,7.17,2.83,4.01,5.51,10.24,10.8,12.16,15.03,16.27,16.27,15.64,14.49,13.83,12.78],\"legendgroup\":\"\",\"marker\":{\"color\":[14.35,12.29,12.19,12.26,12.29,12.02,11.43,10.07,9.85,9.83,7.17,2.83,4.01,5.51,10.24,10.8,12.16,15.03,16.27,16.27,15.64,14.49,13.83,12.78],\"coloraxis\":\"coloraxis\",\"size\":[0,0,0,0,10,760,2700,5340,7660,9980,11670,12530,12260,11430,9850,7420,4450,1820,280,0,0,0,0,0],\"sizemode\":\"area\",\"sizeref\":1.506,\"symbol\":\"circle\"},\"mode\":\"markers\",\"name\":\"\",\"orientation\":\"v\",\"showlegend\":false,\"x\":[23590,22250,21790,22000,21880,21390,21680,23350,25620,28340,30280,31680,32330,32370,32420,32530,32380,32100,32040,31990,30830,29160,27490,25970],\"xaxis\":\"x\",\"y\":[0,0,0,0,10,760,2700,5340,7660,9980,11670,12530,12260,11430,9850,7420,4450,1820,280,0,0,0,0,0],\"yaxis\":\"y\",\"type\":\"scatter\"}],\"name\":\"2023-06-25 00:00:00\"},{\"data\":[{\"hovertemplate\":\"\\u003cb\\u003e%{hovertext}\\u003c\\u002fb\\u003e\\u003cbr\\u003e\\u003cbr\\u003edate=2023-06-26 00:00:00\\u003cbr\\u003eElectricity demand=%{x}\\u003cbr\\u003eSolar output=%{marker.size}\\u003cbr\\u003eprice=%{marker.color}\\u003cextra\\u003e\\u003c\\u002fextra\\u003e\",\"hovertext\":[12.12,11.37,11.44,11.73,11.79,11.68,11.65,11.69,12.45,12.84,12.33,12.49,12.03,13.45,13.93,15.29,16.13,16.16,16.45,16.41,16.46,15.38,15.17,12.72],\"legendgroup\":\"\",\"marker\":{\"color\":[12.12,11.37,11.44,11.73,11.79,11.68,11.65,11.69,12.45,12.84,12.33,12.49,12.03,13.45,13.93,15.29,16.13,16.16,16.45,16.41,16.46,15.38,15.17,12.72],\"coloraxis\":\"coloraxis\",\"size\":[0,0,0,0,10,520,1430,2700,4130,6040,8150,9640,10110,9430,8370,6190,3470,1210,180,0,0,0,0,0],\"sizemode\":\"area\",\"sizeref\":1.506,\"symbol\":\"circle\"},\"mode\":\"markers\",\"name\":\"\",\"orientation\":\"v\",\"showlegend\":false,\"x\":[24010,22580,22130,22380,22560,22830,24430,27680,32320,36210,38050,39290,39030,40390,40910,40560,40080,37930,36810,35880,34000,31940,30290,28580],\"xaxis\":\"x\",\"y\":[0,0,0,0,10,520,1430,2700,4130,6040,8150,9640,10110,9430,8370,6190,3470,1210,180,0,0,0,0,0],\"yaxis\":\"y\",\"type\":\"scatter\"}],\"name\":\"2023-06-26 00:00:00\"},{\"data\":[{\"hovertemplate\":\"\\u003cb\\u003e%{hovertext}\\u003c\\u002fb\\u003e\\u003cbr\\u003e\\u003cbr\\u003edate=2023-06-27 00:00:00\\u003cbr\\u003eElectricity demand=%{x}\\u003cbr\\u003eSolar output=%{marker.size}\\u003cbr\\u003eprice=%{marker.color}\\u003cextra\\u003e\\u003c\\u002fextra\\u003e\",\"hovertext\":[12.61,12.25,12.31,12.25,12.2,12.22,12.25,12.33,12.71,15.0,16.14,16.25,14.25,16.4,16.28,16.25,16.41,16.26,16.49,16.57,15.51,13.91,14.13,12.43],\"legendgroup\":\"\",\"marker\":{\"color\":[12.61,12.25,12.31,12.25,12.2,12.22,12.25,12.33,12.71,15.0,16.14,16.25,14.25,16.4,16.28,16.25,16.41,16.26,16.49,16.57,15.51,13.91,14.13,12.43],\"coloraxis\":\"coloraxis\",\"size\":[0,0,0,0,10,350,1250,2920,4500,5280,5400,6100,6840,6310,5100,3510,2080,1070,190,0,0,0,0,0],\"sizemode\":\"area\",\"sizeref\":1.506,\"symbol\":\"circle\"},\"mode\":\"markers\",\"name\":\"\",\"orientation\":\"v\",\"showlegend\":false,\"x\":[26210,24670,24150,24290,24410,24540,25940,29080,34040,37730,38530,38930,38620,40430,40710,39940,39130,37910,37340,36720,34970,32900,31270,29330],\"xaxis\":\"x\",\"y\":[0,0,0,0,10,350,1250,2920,4500,5280,5400,6100,6840,6310,5100,3510,2080,1070,190,0,0,0,0,0],\"yaxis\":\"y\",\"type\":\"scatter\"}],\"name\":\"2023-06-27 00:00:00\"},{\"data\":[{\"hovertemplate\":\"\\u003cb\\u003e%{hovertext}\\u003c\\u002fb\\u003e\\u003cbr\\u003e\\u003cbr\\u003edate=2023-06-28 00:00:00\\u003cbr\\u003eElectricity demand=%{x}\\u003cbr\\u003eSolar output=%{marker.size}\\u003cbr\\u003eprice=%{marker.color}\\u003cextra\\u003e\\u003c\\u002fextra\\u003e\",\"hovertext\":[12.11,11.91,11.88,11.88,11.88,11.8,11.88,11.94,12.34,12.62,12.69,12.77,12.42,15.19,16.04,16.15,16.26,16.37,16.65,16.74,16.61,15.61,15.28,13.5],\"legendgroup\":\"\",\"marker\":{\"color\":[12.11,11.91,11.88,11.88,11.88,11.8,11.88,11.94,12.34,12.62,12.69,12.77,12.42,15.19,16.04,16.15,16.26,16.37,16.65,16.74,16.61,15.61,15.28,13.5],\"coloraxis\":\"coloraxis\",\"size\":[0,0,0,0,0,630,2150,4250,5940,7650,8800,10770,11630,9990,7990,5130,2680,720,120,0,0,0,0,0],\"sizemode\":\"area\",\"sizeref\":1.506,\"symbol\":\"circle\"},\"mode\":\"markers\",\"name\":\"\",\"orientation\":\"v\",\"showlegend\":false,\"x\":[26830,25160,24600,24600,24680,24860,26870,30790,36320,40320,41850,43410,44000,45660,46200,44940,43980,40880,39680,38400,35970,33650,31860,29630],\"xaxis\":\"x\",\"y\":[0,0,0,0,0,630,2150,4250,5940,7650,8800,10770,11630,9990,7990,5130,2680,720,120,0,0,0,0,0],\"yaxis\":\"y\",\"type\":\"scatter\"}],\"name\":\"2023-06-28 00:00:00\"},{\"data\":[{\"hovertemplate\":\"\\u003cb\\u003e%{hovertext}\\u003c\\u002fb\\u003e\\u003cbr\\u003e\\u003cbr\\u003edate=2023-06-29 00:00:00\\u003cbr\\u003eElectricity demand=%{x}\\u003cbr\\u003eSolar output=%{marker.size}\\u003cbr\\u003eprice=%{marker.color}\\u003cextra\\u003e\\u003c\\u002fextra\\u003e\",\"hovertext\":[13.42,12.19,12.03,12.09,12.14,12.08,11.86,12.03,11.91,12.01,11.64,12.25,12.08,15.0,16.13,16.49,17.02,16.94,17.37,17.98,17.23,16.58,16.37,14.57],\"legendgroup\":\"\",\"marker\":{\"color\":[13.42,12.19,12.03,12.09,12.14,12.08,11.86,12.03,11.91,12.01,11.64,12.25,12.08,15.0,16.13,16.49,17.02,16.94,17.37,17.98,17.23,16.58,16.37,14.57],\"coloraxis\":\"coloraxis\",\"size\":[0,0,0,0,0,640,2220,4860,7940,10730,12740,13430,13370,12380,10210,7360,4460,1870,300,0,0,0,0,0],\"sizemode\":\"area\",\"sizeref\":1.506,\"symbol\":\"circle\"},\"mode\":\"markers\",\"name\":\"\",\"orientation\":\"v\",\"showlegend\":false,\"x\":[26990,25300,24680,24630,24650,24970,26750,30300,35890,40500,42850,44290,43960,46040,46580,45790,45110,43230,41410,40160,37900,35410,33390,31080],\"xaxis\":\"x\",\"y\":[0,0,0,0,0,640,2220,4860,7940,10730,12740,13430,13370,12380,10210,7360,4460,1870,300,0,0,0,0,0],\"yaxis\":\"y\",\"type\":\"scatter\"}],\"name\":\"2023-06-29 00:00:00\"},{\"data\":[{\"hovertemplate\":\"\\u003cb\\u003e%{hovertext}\\u003c\\u002fb\\u003e\\u003cbr\\u003e\\u003cbr\\u003edate=2023-06-30 00:00:00\\u003cbr\\u003eElectricity demand=%{x}\\u003cbr\\u003eSolar output=%{marker.size}\\u003cbr\\u003eprice=%{marker.color}\\u003cextra\\u003e\\u003c\\u002fextra\\u003e\",\"hovertext\":[12.63,12.31,12.16,12.03,12.01,11.93,11.98,12.35,13.84,16.1,15.79,15.97,14.78,15.68,16.16,16.52,16.93,16.92,16.92,16.74,16.37,15.06,14.91,12.21],\"legendgroup\":\"\",\"marker\":{\"color\":[12.63,12.31,12.16,12.03,12.01,11.93,11.98,12.35,13.84,16.1,15.79,15.97,14.78,15.68,16.16,16.52,16.93,16.92,16.92,16.74,16.37,15.06,14.91,12.21],\"coloraxis\":\"coloraxis\",\"size\":[0,0,0,0,0,470,1400,2300,3320,3380,2670,3700,5720,6560,6140,3680,1620,820,130,0,0,0,0,0],\"sizemode\":\"area\",\"sizeref\":1.506,\"symbol\":\"circle\"},\"mode\":\"markers\",\"name\":\"\",\"orientation\":\"v\",\"showlegend\":false,\"x\":[28250,26320,25550,25410,25440,25710,27670,31110,36640,40590,40500,39800,39690,42110,43640,42810,41190,39360,38410,37610,35720,33590,32090,30230],\"xaxis\":\"x\",\"y\":[0,0,0,0,0,470,1400,2300,3320,3380,2670,3700,5720,6560,6140,3680,1620,820,130,0,0,0,0,0],\"yaxis\":\"y\",\"type\":\"scatter\"}],\"name\":\"2023-06-30 00:00:00\"}]);\n",
       "                        }).then(function(){\n",
       "                            \n",
       "var gd = document.getElementById('7f210043-6bd9-4e2c-a9dc-c9dbe2199c00');\n",
       "var x = new MutationObserver(function (mutations, observer) {{\n",
       "        var display = window.getComputedStyle(gd).display;\n",
       "        if (!display || display === 'none') {{\n",
       "            console.log([gd, 'removed!']);\n",
       "            Plotly.purge(gd);\n",
       "            observer.disconnect();\n",
       "        }}\n",
       "}});\n",
       "\n",
       "// Listen for the removal of the full notebook cells\n",
       "var notebookContainer = gd.closest('#notebook-container');\n",
       "if (notebookContainer) {{\n",
       "    x.observe(notebookContainer, {childList: true});\n",
       "}}\n",
       "\n",
       "// Listen for the clearing of the current output cell\n",
       "var outputEl = gd.closest('.output');\n",
       "if (outputEl) {{\n",
       "    x.observe(outputEl, {childList: true});\n",
       "}}\n",
       "\n",
       "                        })                };                });            </script>        </div>"
      ]
     },
     "metadata": {},
     "output_type": "display_data"
    }
   ],
   "source": [
    "px.scatter(df2, x= 'demand', y = 'solar',\n",
    "          size = 'solar',\n",
    "          color = 'price',\n",
    "          title = 'Demand and solar output in Jun',\n",
    "          labels = {'solar': 'Solar output',\n",
    "                    'demand': 'Electricity demand'},\n",
    "          log_x = True,\n",
    "          range_y = [0, 15100],\n",
    "           hover_name = 'price',\n",
    "           animation_frame = 'date',\n",
    "           height = 600,\n",
    "           size_max = 100)"
   ]
  },
  {
   "cell_type": "code",
   "execution_count": null,
   "id": "cdb287de-f622-4a44-9354-e1d7169ae328",
   "metadata": {},
   "outputs": [],
   "source": []
  }
 ],
 "metadata": {
  "kernelspec": {
   "display_name": "Python 3 (ipykernel)",
   "language": "python",
   "name": "python3"
  },
  "language_info": {
   "codemirror_mode": {
    "name": "ipython",
    "version": 3
   },
   "file_extension": ".py",
   "mimetype": "text/x-python",
   "name": "python",
   "nbconvert_exporter": "python",
   "pygments_lexer": "ipython3",
   "version": "3.10.14"
  }
 },
 "nbformat": 4,
 "nbformat_minor": 5
}
